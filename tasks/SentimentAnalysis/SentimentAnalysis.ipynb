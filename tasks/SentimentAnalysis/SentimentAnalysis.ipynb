{
  "cells": [
    {
      "cell_type": "markdown",
      "metadata": {
        "id": "OUrFprmDa40H"
      },
      "source": [
        "# Tutorial: Sentiment Analysis with LASER Embeddings and RNN\n",
        "\n",
        "In this tutorial, we will guide you through the process of installing the necessary libraries, downloading a sentiment analysis dataset, and building a sentiment analysis model using [LASER](https://github.com/facebookresearch/LASER) embeddings and a Recurrent Neural Network (RNN).\n",
        "\n"
      ]
    },
    {
      "cell_type": "markdown",
      "metadata": {
        "id": "hJETScFpJkyu"
      },
      "source": [
        "## Step 1: Installing Laser Encoder\n",
        "\n",
        "To begin, let's install the laser_encoders library along with its dependencies. These include sacremoses, sentencepiece, and fairseq. You can achieve this by running the following command:"
      ]
    },
    {
      "cell_type": "code",
      "execution_count": 1,
      "metadata": {
        "colab": {
          "base_uri": "https://localhost:8080/"
        },
        "id": "KZ_Eqn90J6CK",
        "outputId": "64259e1b-7e33-4206-e5dc-b21d66bee897"
      },
      "outputs": [
        {
          "name": "stdout",
          "output_type": "stream",
          "text": [
            "Collecting laser_encoders\n",
            "  Downloading laser_encoders-0.0.1-py3-none-any.whl (24 kB)\n",
            "Collecting sacremoses==0.1.0 (from laser_encoders)\n",
            "  Downloading sacremoses-0.1.0-py3-none-any.whl (895 kB)\n",
            "\u001b[?25l     \u001b[90m━━━━━━━━━━━━━━━━━━━━━━━━━━━━━━━━━━━━━━━━\u001b[0m \u001b[32m0.0/895.1 kB\u001b[0m \u001b[31m?\u001b[0m eta \u001b[36m-:--:--\u001b[0m\r\u001b[2K     \u001b[91m━━━━━━━━━━━━━━━━━━━━━━━━━━━━━━━━━━━━━━━\u001b[0m\u001b[91m╸\u001b[0m \u001b[32m890.9/895.1 kB\u001b[0m \u001b[31m27.5 MB/s\u001b[0m eta \u001b[36m0:00:01\u001b[0m\r\u001b[2K     \u001b[90m━━━━━━━━━━━━━━━━━━━━━━━━━━━━━━━━━━━━━━━━\u001b[0m \u001b[32m895.1/895.1 kB\u001b[0m \u001b[31m20.4 MB/s\u001b[0m eta \u001b[36m0:00:00\u001b[0m\n",
            "\u001b[?25hCollecting unicategories>=0.1.2 (from laser_encoders)\n",
            "  Downloading unicategories-0.1.2.tar.gz (12 kB)\n",
            "  Preparing metadata (setup.py) ... \u001b[?25l\u001b[?25hdone\n",
            "Collecting sentencepiece>=0.1.99 (from laser_encoders)\n",
            "  Downloading sentencepiece-0.1.99-cp310-cp310-manylinux_2_17_x86_64.manylinux2014_x86_64.whl (1.3 MB)\n",
            "\u001b[2K     \u001b[90m━━━━━━━━━━━━━━━━━━━━━━━━━━━━━━━━━━━━━━━━\u001b[0m \u001b[32m1.3/1.3 MB\u001b[0m \u001b[31m53.6 MB/s\u001b[0m eta \u001b[36m0:00:00\u001b[0m\n",
            "\u001b[?25hRequirement already satisfied: numpy>=1.21.3 in /usr/local/lib/python3.10/dist-packages (from laser_encoders) (1.23.5)\n",
            "Requirement already satisfied: torch>=1.10.0 in /usr/local/lib/python3.10/dist-packages (from laser_encoders) (2.1.0+cu118)\n",
            "Collecting fairseq>=0.12.2 (from laser_encoders)\n",
            "  Downloading fairseq-0.12.2.tar.gz (9.6 MB)\n",
            "\u001b[2K     \u001b[90m━━━━━━━━━━━━━━━━━━━━━━━━━━━━━━━━━━━━━━━━\u001b[0m \u001b[32m9.6/9.6 MB\u001b[0m \u001b[31m103.0 MB/s\u001b[0m eta \u001b[36m0:00:00\u001b[0m\n",
            "\u001b[?25h  Installing build dependencies ... \u001b[?25l\u001b[?25hdone\n",
            "  Getting requirements to build wheel ... \u001b[?25l\u001b[?25hdone\n",
            "  Installing backend dependencies ... \u001b[?25l\u001b[?25hdone\n",
            "  Preparing metadata (pyproject.toml) ... \u001b[?25l\u001b[?25hdone\n",
            "Requirement already satisfied: regex in /usr/local/lib/python3.10/dist-packages (from sacremoses==0.1.0->laser_encoders) (2023.6.3)\n",
            "Requirement already satisfied: click in /usr/local/lib/python3.10/dist-packages (from sacremoses==0.1.0->laser_encoders) (8.1.7)\n",
            "Requirement already satisfied: joblib in /usr/local/lib/python3.10/dist-packages (from sacremoses==0.1.0->laser_encoders) (1.3.2)\n",
            "Requirement already satisfied: tqdm in /usr/local/lib/python3.10/dist-packages (from sacremoses==0.1.0->laser_encoders) (4.66.1)\n",
            "Requirement already satisfied: cffi in /usr/local/lib/python3.10/dist-packages (from fairseq>=0.12.2->laser_encoders) (1.16.0)\n",
            "Requirement already satisfied: cython in /usr/local/lib/python3.10/dist-packages (from fairseq>=0.12.2->laser_encoders) (3.0.6)\n",
            "Collecting hydra-core<1.1,>=1.0.7 (from fairseq>=0.12.2->laser_encoders)\n",
            "  Downloading hydra_core-1.0.7-py3-none-any.whl (123 kB)\n",
            "\u001b[2K     \u001b[90m━━━━━━━━━━━━━━━━━━━━━━━━━━━━━━━━━━━━━━━━\u001b[0m \u001b[32m123.8/123.8 kB\u001b[0m \u001b[31m15.7 MB/s\u001b[0m eta \u001b[36m0:00:00\u001b[0m\n",
            "\u001b[?25hCollecting omegaconf<2.1 (from fairseq>=0.12.2->laser_encoders)\n",
            "  Downloading omegaconf-2.0.6-py3-none-any.whl (36 kB)\n",
            "Collecting sacrebleu>=1.4.12 (from fairseq>=0.12.2->laser_encoders)\n",
            "  Downloading sacrebleu-2.3.3-py3-none-any.whl (106 kB)\n",
            "\u001b[2K     \u001b[90m━━━━━━━━━━━━━━━━━━━━━━━━━━━━━━━━━━━━━━━━\u001b[0m \u001b[32m106.4/106.4 kB\u001b[0m \u001b[31m12.5 MB/s\u001b[0m eta \u001b[36m0:00:00\u001b[0m\n",
            "\u001b[?25hCollecting bitarray (from fairseq>=0.12.2->laser_encoders)\n",
            "  Downloading bitarray-2.8.4-cp310-cp310-manylinux_2_17_x86_64.manylinux2014_x86_64.whl (279 kB)\n",
            "\u001b[2K     \u001b[90m━━━━━━━━━━━━━━━━━━━━━━━━━━━━━━━━━━━━━━━━\u001b[0m \u001b[32m279.9/279.9 kB\u001b[0m \u001b[31m7.8 MB/s\u001b[0m eta \u001b[36m0:00:00\u001b[0m\n",
            "\u001b[?25hRequirement already satisfied: torchaudio>=0.8.0 in /usr/local/lib/python3.10/dist-packages (from fairseq>=0.12.2->laser_encoders) (2.1.0+cu118)\n",
            "Requirement already satisfied: filelock in /usr/local/lib/python3.10/dist-packages (from torch>=1.10.0->laser_encoders) (3.13.1)\n",
            "Requirement already satisfied: typing-extensions in /usr/local/lib/python3.10/dist-packages (from torch>=1.10.0->laser_encoders) (4.5.0)\n",
            "Requirement already satisfied: sympy in /usr/local/lib/python3.10/dist-packages (from torch>=1.10.0->laser_encoders) (1.12)\n",
            "Requirement already satisfied: networkx in /usr/local/lib/python3.10/dist-packages (from torch>=1.10.0->laser_encoders) (3.2.1)\n",
            "Requirement already satisfied: jinja2 in /usr/local/lib/python3.10/dist-packages (from torch>=1.10.0->laser_encoders) (3.1.2)\n",
            "Requirement already satisfied: fsspec in /usr/local/lib/python3.10/dist-packages (from torch>=1.10.0->laser_encoders) (2023.6.0)\n",
            "Requirement already satisfied: triton==2.1.0 in /usr/local/lib/python3.10/dist-packages (from torch>=1.10.0->laser_encoders) (2.1.0)\n",
            "Requirement already satisfied: appdirs in /usr/local/lib/python3.10/dist-packages (from unicategories>=0.1.2->laser_encoders) (1.4.4)\n",
            "Collecting antlr4-python3-runtime==4.8 (from hydra-core<1.1,>=1.0.7->fairseq>=0.12.2->laser_encoders)\n",
            "  Downloading antlr4-python3-runtime-4.8.tar.gz (112 kB)\n",
            "\u001b[2K     \u001b[90m━━━━━━━━━━━━━━━━━━━━━━━━━━━━━━━━━━━━━━━━\u001b[0m \u001b[32m112.4/112.4 kB\u001b[0m \u001b[31m15.7 MB/s\u001b[0m eta \u001b[36m0:00:00\u001b[0m\n",
            "\u001b[?25h  Preparing metadata (setup.py) ... \u001b[?25l\u001b[?25hdone\n",
            "Requirement already satisfied: PyYAML>=5.1.* in /usr/local/lib/python3.10/dist-packages (from omegaconf<2.1->fairseq>=0.12.2->laser_encoders) (6.0.1)\n",
            "Collecting portalocker (from sacrebleu>=1.4.12->fairseq>=0.12.2->laser_encoders)\n",
            "  Downloading portalocker-2.8.2-py3-none-any.whl (17 kB)\n",
            "Requirement already satisfied: tabulate>=0.8.9 in /usr/local/lib/python3.10/dist-packages (from sacrebleu>=1.4.12->fairseq>=0.12.2->laser_encoders) (0.9.0)\n",
            "Collecting colorama (from sacrebleu>=1.4.12->fairseq>=0.12.2->laser_encoders)\n",
            "  Downloading colorama-0.4.6-py2.py3-none-any.whl (25 kB)\n",
            "Requirement already satisfied: lxml in /usr/local/lib/python3.10/dist-packages (from sacrebleu>=1.4.12->fairseq>=0.12.2->laser_encoders) (4.9.3)\n",
            "Requirement already satisfied: pycparser in /usr/local/lib/python3.10/dist-packages (from cffi->fairseq>=0.12.2->laser_encoders) (2.21)\n",
            "Requirement already satisfied: MarkupSafe>=2.0 in /usr/local/lib/python3.10/dist-packages (from jinja2->torch>=1.10.0->laser_encoders) (2.1.3)\n",
            "Requirement already satisfied: mpmath>=0.19 in /usr/local/lib/python3.10/dist-packages (from sympy->torch>=1.10.0->laser_encoders) (1.3.0)\n",
            "Building wheels for collected packages: fairseq, unicategories, antlr4-python3-runtime\n",
            "  Building wheel for fairseq (pyproject.toml) ... \u001b[?25l\u001b[?25hdone\n",
            "  Created wheel for fairseq: filename=fairseq-0.12.2-cp310-cp310-linux_x86_64.whl size=11291822 sha256=f284b2bd281d73f4627eebec8246219b367d69be6daf1c998492c80ec41dca9a\n",
            "  Stored in directory: /root/.cache/pip/wheels/e4/35/55/9c66f65ec7c83fd6fbc2b9502a0ac81b2448a1196159dacc32\n",
            "  Building wheel for unicategories (setup.py) ... \u001b[?25l\u001b[?25hdone\n",
            "  Created wheel for unicategories: filename=unicategories-0.1.2-py2.py3-none-any.whl size=30843 sha256=8de9147e4300a25bb26db710ad2783657bbc603d8718ecaee4ecdaeb5106317c\n",
            "  Stored in directory: /root/.cache/pip/wheels/0b/6d/14/7135674b9daa3996f7f0d9bc1ccff5b7d50d6f1c4a16dc7d90\n",
            "  Building wheel for antlr4-python3-runtime (setup.py) ... \u001b[?25l\u001b[?25hdone\n",
            "  Created wheel for antlr4-python3-runtime: filename=antlr4_python3_runtime-4.8-py3-none-any.whl size=141210 sha256=11ec4e6f5b3e50737f4ccefbf416ecb9b3c303e9a672b638248ba2ce0962b683\n",
            "  Stored in directory: /root/.cache/pip/wheels/a7/20/bd/e1477d664f22d99989fd28ee1a43d6633dddb5cb9e801350d5\n",
            "Successfully built fairseq unicategories antlr4-python3-runtime\n",
            "Installing collected packages: sentencepiece, bitarray, antlr4-python3-runtime, unicategories, sacremoses, portalocker, omegaconf, colorama, sacrebleu, hydra-core, fairseq, laser_encoders\n",
            "Successfully installed antlr4-python3-runtime-4.8 bitarray-2.8.4 colorama-0.4.6 fairseq-0.12.2 hydra-core-1.0.7 laser_encoders-0.0.1 omegaconf-2.0.6 portalocker-2.8.2 sacrebleu-2.3.3 sacremoses-0.1.0 sentencepiece-0.1.99 unicategories-0.1.2\n"
          ]
        }
      ],
      "source": [
        "! pip install laser_encoders"
      ]
    },
    {
      "cell_type": "markdown",
      "metadata": {
        "id": "F-BHLZZTbq5_"
      },
      "source": [
        "This ensures that you have all the required packages for this tutorial."
      ]
    },
    {
      "cell_type": "markdown",
      "metadata": {
        "id": "4qYPrbjXcNjK"
      },
      "source": [
        "## Step 2: Install Additional Libraries\n",
        "\n",
        "Before we proceed, let's install the chardet library, which is handy for detecting the encoding of the dataset."
      ]
    },
    {
      "cell_type": "code",
      "execution_count": 2,
      "metadata": {
        "colab": {
          "base_uri": "https://localhost:8080/"
        },
        "id": "bxnIqaniSXbG",
        "outputId": "fe7c329d-5741-42be-859d-164887ae8042"
      },
      "outputs": [
        {
          "name": "stdout",
          "output_type": "stream",
          "text": [
            "Requirement already satisfied: chardet in /usr/local/lib/python3.10/dist-packages (5.2.0)\n"
          ]
        }
      ],
      "source": [
        "!pip install chardet"
      ]
    },
    {
      "cell_type": "markdown",
      "metadata": {
        "id": "bTU26v9ScUKl"
      },
      "source": [
        "With chardet installed, we can confidently handle various dataset encodings."
      ]
    },
    {
      "cell_type": "markdown",
      "metadata": {
        "id": "XlTEzmQTEmew"
      },
      "source": [
        "## Step 3: Connect to your drive\n",
        "\n",
        "To access files from your Google Drive, mount it using the following code.\n",
        "\n"
      ]
    },
    {
      "cell_type": "code",
      "execution_count": 3,
      "metadata": {
        "colab": {
          "base_uri": "https://localhost:8080/"
        },
        "id": "Jh2MZfGKExwu",
        "outputId": "7889c82e-4fe0-460e-98b1-7e97866238b5"
      },
      "outputs": [
        {
          "name": "stdout",
          "output_type": "stream",
          "text": [
            "Drive already mounted at /content/drive; to attempt to forcibly remount, call drive.mount(\"/content/drive\", force_remount=True).\n"
          ]
        }
      ],
      "source": [
        "from google.colab import drive\n",
        "drive.mount('/content/drive')"
      ]
    },
    {
      "cell_type": "markdown",
      "metadata": {
        "id": "rgBj7FdeVIZn"
      },
      "source": [
        "## Step 4: Import Necessary Libraries\n",
        "\n",
        "Now, let's import the libraries required for data manipulation, encoding, and model building."
      ]
    },
    {
      "cell_type": "code",
      "execution_count": 4,
      "metadata": {
        "id": "LN0F4-9AR8_k"
      },
      "outputs": [],
      "source": [
        "import numpy as np\n",
        "import pandas as pd\n",
        "import chardet\n",
        "import matplotlib.pyplot as plt\n",
        "from laser_encoders import LaserEncoderPipeline\n",
        "from sklearn.model_selection import train_test_split\n",
        "from sklearn.metrics import accuracy_score\n",
        "from sklearn.linear_model import LogisticRegression\n",
        "from sklearn.preprocessing import LabelEncoder\n",
        "from tensorflow.keras.models import Sequential\n",
        "from tensorflow.keras.layers import Dense\n",
        "from tqdm import tqdm"
      ]
    },
    {
      "cell_type": "markdown",
      "metadata": {
        "id": "HI_joOxsc-l7"
      },
      "source": [
        "These libraries will be crucial for various stages of the tutorial."
      ]
    },
    {
      "cell_type": "markdown",
      "metadata": {
        "id": "RPQyhOAyVM-X"
      },
      "source": [
        "## Step 5: Load the Dataset\n",
        "\n",
        "These lines enable you to connect to your Google Drive, access the dataset, and ensure proper encoding for reading the CSV file. To download the dataset, follow these steps:\n",
        "\n",
        "- Go to this Kaggle link: [Sentiment analysis dataset](https://www.kaggle.com/datasets/abhi8923shriv/sentiment-analysis-dataset)\n",
        "- Download the dataset and unzip it.\n",
        "\n",
        "\n",
        "\n",
        "```\n",
        "!unzip -q /path/to/downloaded/dataset.zip -d /dataset/folder\n",
        "```\n",
        "\n",
        "\n",
        "\n",
        "- Use the train.csv file for your sentiment analysis project.\n",
        "\n",
        "We'll load the sentiment analysis dataset, detect its encoding, and select only the relevant columns ('sentiment' and 'text')."
      ]
    },
    {
      "cell_type": "code",
      "execution_count": 5,
      "metadata": {
        "id": "K0CKtslqNlQg"
      },
      "outputs": [],
      "source": [
        "with open('/content/drive/MyDrive/dataset/train.csv', 'rb') as f:\n",
        "    result = chardet.detect(f.read())\n",
        "\n",
        "# Use the detected encoding when reading the CSV file\n",
        "data = pd.read_csv('/content/drive/MyDrive/dataset/train.csv', encoding=result['encoding'])\n",
        "data = data[['sentiment', 'text']]"
      ]
    },
    {
      "cell_type": "markdown",
      "metadata": {
        "id": "VHD1fufAdN8u"
      },
      "source": [
        "This ensures that we work with the correct dataset encoding.\n",
        "\n"
      ]
    },
    {
      "cell_type": "markdown",
      "metadata": {
        "id": "-nTtk4wSdPYV"
      },
      "source": [
        "## Step 6: Data Processing\n",
        "\n",
        "Before diving into model training, let's shuffle the dataset for better generalization:"
      ]
    },
    {
      "cell_type": "code",
      "execution_count": 6,
      "metadata": {
        "colab": {
          "base_uri": "https://localhost:8080/"
        },
        "id": "hPqyJk2wNsye",
        "outputId": "c0978181-4abe-40e2-b60f-d69c2522d0b2"
      },
      "outputs": [
        {
          "name": "stdout",
          "output_type": "stream",
          "text": [
            "      sentiment                                               text\n",
            "7480    neutral  all alone.  still watching TWW, eating Italian...\n",
            "4446    neutral            It will give me lulz from time to time.\n",
            "17341  negative  leaving florida want to live there forever! Te...\n",
            "24201   neutral  working today.  Can`t find my key so I had to ...\n",
            "21908   neutral                                          WORD!!!!!\n",
            "(27481, 2)\n"
          ]
        }
      ],
      "source": [
        "data = data.sample(frac=1)\n",
        "print(data.head())\n",
        "print(data.shape)"
      ]
    },
    {
      "cell_type": "markdown",
      "metadata": {
        "id": "5h7xuCWBdWB8"
      },
      "source": [
        "Shuffling helps prevent any potential biases in the data.\n",
        "\n"
      ]
    },
    {
      "cell_type": "markdown",
      "metadata": {
        "id": "XcDOh4mS1JZ0"
      },
      "source": [
        "## Step 7:Visualizing Sentiment Distribution in the Dataset\n",
        "\n",
        "This step involves creating a bar plot to visualize the distribution of sentiments in the dataset."
      ]
    },
    {
      "cell_type": "code",
      "execution_count": 7,
      "metadata": {
        "colab": {
          "base_uri": "https://localhost:8080/",
          "height": 611
        },
        "id": "TLp-3OE91Dp4",
        "outputId": "a0caeb71-c288-44d5-c700-6695dea47462"
      },
      "outputs": [
        {
          "data": {
            "image/png": "[encoded data removed]",
            "text/plain": [
              "<Figure size 1000x600 with 1 Axes>"
            ]
          },
          "metadata": {},
          "output_type": "display_data"
        }
      ],
      "source": [
        "plt.figure(figsize=(10, 6))\n",
        "data['sentiment'].value_counts().plot(kind='bar', color=['blue', 'green', 'red'])\n",
        "plt.title('Sentiment Distribution')\n",
        "plt.xlabel('Sentiment')\n",
        "plt.ylabel('Count')\n",
        "plt.show()"
      ]
    },
    {
      "cell_type": "markdown",
      "metadata": {
        "id": "xgpZZMfI5NWv"
      },
      "source": [
        "## Step 8: Extract Sentiments and Texts from DataFrame\n",
        "\n",
        "Now, we'll extract sentiments and texts from the DataFrame and mapp sentiments to numerical values.\n",
        "\n",
        "Assigning numerical values to Sentiments:\n",
        "Neutral -> 1\n",
        "Positive -> 2\n",
        "Negative -> 3"
      ]
    },
    {
      "cell_type": "code",
      "execution_count": 8,
      "metadata": {
        "colab": {
          "base_uri": "https://localhost:8080/"
        },
        "id": "fmkM4YiSVRym",
        "outputId": "57379dd7-edbe-4b1a-8f03-401dcf4ed0da"
      },
      "outputs": [
        {
          "name": "stdout",
          "output_type": "stream",
          "text": [
            "Warning: Skipping row 314 with float text value\n",
            "27480\n",
            "27480\n"
          ]
        }
      ],
      "source": [
        "sentiments = []\n",
        "texts = []\n",
        "\n",
        "for index, row in data.iterrows():\n",
        "    sentiment = row['sentiment'].lower()  # Convert to lowercase for case-insensitivity\n",
        "    if sentiment == 'neutral':\n",
        "        sentiments.append(1)\n",
        "    elif sentiment == 'positive':\n",
        "        sentiments.append(2)\n",
        "    elif sentiment == 'negative':\n",
        "        sentiments.append(3)\n",
        "    else:\n",
        "        # Handle the case where sentiment is not one of the expected values\n",
        "        # You may choose to skip this row or handle it differently based on your requirements\n",
        "        print(f\"Warning: Unknown sentiment '{sentiment}' in row {index}\")\n",
        "        continue  # Skip the rest of the loop for this row\n",
        "\n",
        "    text = row['text']\n",
        "    if not isinstance(text, float):\n",
        "        texts.append(text)\n",
        "    else:\n",
        "        # Skip the sentiment for this row as well\n",
        "        print(f\"Warning: Skipping row {index} with float text value\")\n",
        "        sentiments.pop()  # Remove the last added sentiment\n",
        "\n",
        "print(len(sentiments))\n",
        "print(len(texts))\n"
      ]
    },
    {
      "cell_type": "markdown",
      "metadata": {
        "id": "OttHuyrLd5HR"
      },
      "source": [
        "This step prepares the data by converting sentiments and texts into a suitable format for training.\n",
        "\n"
      ]
    },
    {
      "cell_type": "markdown",
      "metadata": {
        "id": "RYAKRFt_d87z"
      },
      "source": [
        "## Step 9: Split the Dataset\n",
        "\n",
        "For model training and evaluation, we'll split the dataset into training and validation sets:"
      ]
    },
    {
      "cell_type": "code",
      "execution_count": 9,
      "metadata": {
        "colab": {
          "base_uri": "https://localhost:8080/"
        },
        "id": "GOUNpqmlfMV5",
        "outputId": "6b266f44-23b9-4a74-c51f-0db5950af921"
      },
      "outputs": [
        {
          "name": "stderr",
          "output_type": "stream",
          "text": [
            "100%|██████████| 1.01M/1.01M [00:00<00:00, 1.27MB/s]\n",
            "100%|██████████| 179M/179M [00:08<00:00, 21.9MB/s]\n",
            "100%|██████████| 470k/470k [00:00<00:00, 742kB/s]\n"
          ]
        }
      ],
      "source": [
        "label_encoder = LabelEncoder()\n",
        "encoded_sentiments = label_encoder.fit_transform(sentiments)\n",
        "\n",
        "# Split the data into training and testing sets\n",
        "X_train, X_test, y_train, y_test = train_test_split(texts, encoded_sentiments, test_size=0.2, random_state=42)\n",
        "\n",
        "# Initialize the LaserEncoder\n",
        "encoder = LaserEncoderPipeline(lang=\"eng_Latn\")"
      ]
    },
    {
      "cell_type": "markdown",
      "metadata": {
        "id": "x2vziPx6eSDs"
      },
      "source": [
        "A good practice is to reserve a portion of the data for validation to assess the model's performance."
      ]
    },
    {
      "cell_type": "markdown",
      "metadata": {
        "id": "KKLdd5MO5hoE"
      },
      "source": [
        "## Step 10: LASER Embeddings\n",
        "\n",
        "Now, let's leverage LASER embeddings to convert the text data into numerical representations:"
      ]
    },
    {
      "cell_type": "code",
      "execution_count": 10,
      "metadata": {
        "colab": {
          "base_uri": "https://localhost:8080/"
        },
        "id": "3yrXnFZWzTv3",
        "outputId": "f862bca4-071a-4761-d8aa-2fd24fe92590"
      },
      "outputs": [
        {
          "name": "stdout",
          "output_type": "stream",
          "text": [
            "Encoding training sentences:\n"
          ]
        },
        {
          "name": "stderr",
          "output_type": "stream",
          "text": [
            "100%|██████████| 21984/21984 [02:29<00:00, 146.82it/s]\n"
          ]
        },
        {
          "name": "stdout",
          "output_type": "stream",
          "text": [
            "Encoding testing sentences:\n"
          ]
        },
        {
          "name": "stderr",
          "output_type": "stream",
          "text": [
            "100%|██████████| 5496/5496 [00:36<00:00, 149.02it/s]\n"
          ]
        }
      ],
      "source": [
        "# Initialize empty arrays to store embeddings\n",
        "X_train_embeddings = []\n",
        "X_test_embeddings = []\n",
        "\n",
        "# Encode sentences line-wise using tqdm for progress visualization\n",
        "print(\"Encoding training sentences:\")\n",
        "for sentence in tqdm(X_train):\n",
        "    embeddings = encoder.encode_sentences([sentence])[0]\n",
        "    X_train_embeddings.append(embeddings)\n",
        "\n",
        "print(\"Encoding testing sentences:\")\n",
        "for sentence in tqdm(X_test):\n",
        "    embeddings = encoder.encode_sentences([sentence])[0]\n",
        "    X_test_embeddings.append(embeddings)\n",
        "\n",
        "# Convert lists to numpy arrays\n",
        "X_train_embeddings = np.array(X_train_embeddings)\n",
        "X_test_embeddings = np.array(X_test_embeddings)"
      ]
    },
    {
      "cell_type": "markdown",
      "metadata": {
        "id": "7HeCXoUvefhT"
      },
      "source": [
        "## Step 11: Build and Train the RNN Model\n",
        "\n",
        "With the data ready, it's time to build and train our sentiment analysis model using a simple RNN architecture:"
      ]
    },
    {
      "cell_type": "code",
      "execution_count": 12,
      "metadata": {
        "colab": {
          "base_uri": "https://localhost:8080/"
        },
        "id": "7-7mYJsmWKVT",
        "outputId": "b53c2e14-fd54-4abd-c060-f7f59b4128c6"
      },
      "outputs": [
        {
          "name": "stdout",
          "output_type": "stream",
          "text": [
            "Model: \"sequential\"\n",
            "_________________________________________________________________\n",
            " Layer (type)                Output Shape              Param #   \n",
            "=================================================================\n",
            " dense (Dense)               (None, 256)               262400    \n",
            "                                                                 \n",
            " reshape (Reshape)           (None, 1, 256)            0         \n",
            "                                                                 \n",
            " simple_rnn (SimpleRNN)      (None, 128)               49280     \n",
            "                                                                 \n",
            " dense_1 (Dense)             (None, 64)                8256      \n",
            "                                                                 \n",
            " dropout (Dropout)           (None, 64)                0         \n",
            "                                                                 \n",
            " dense_2 (Dense)             (None, 3)                 195       \n",
            "                                                                 \n",
            "=================================================================\n",
            "Total params: 320131 (1.22 MB)\n",
            "Trainable params: 320131 (1.22 MB)\n",
            "Non-trainable params: 0 (0.00 Byte)\n",
            "_________________________________________________________________\n",
            "Epoch 1/30\n",
            "619/619 [==============================] - 7s 6ms/step - loss: 0.9650 - accuracy: 0.5381 - val_loss: 0.7830 - val_accuracy: 0.6812 - lr: 1.0000e-04\n",
            "Epoch 2/30\n",
            "619/619 [==============================] - 3s 6ms/step - loss: 0.7552 - accuracy: 0.6825 - val_loss: 0.7076 - val_accuracy: 0.6903 - lr: 9.0000e-05\n",
            "Epoch 3/30\n",
            "619/619 [==============================] - 5s 8ms/step - loss: 0.7052 - accuracy: 0.7001 - val_loss: 0.6870 - val_accuracy: 0.7076 - lr: 8.1000e-05\n",
            "Epoch 4/30\n",
            "619/619 [==============================] - 4s 7ms/step - loss: 0.6846 - accuracy: 0.7125 - val_loss: 0.6736 - val_accuracy: 0.7126 - lr: 7.2900e-05\n",
            "Epoch 5/30\n",
            "619/619 [==============================] - 4s 6ms/step - loss: 0.6726 - accuracy: 0.7188 - val_loss: 0.6681 - val_accuracy: 0.7171 - lr: 6.5610e-05\n",
            "Epoch 6/30\n",
            "619/619 [==============================] - 3s 6ms/step - loss: 0.6611 - accuracy: 0.7223 - val_loss: 0.6678 - val_accuracy: 0.7049 - lr: 5.9049e-05\n",
            "Epoch 7/30\n",
            "619/619 [==============================] - 5s 8ms/step - loss: 0.6521 - accuracy: 0.7280 - val_loss: 0.6654 - val_accuracy: 0.7040 - lr: 5.3144e-05\n",
            "Epoch 8/30\n",
            "619/619 [==============================] - 5s 7ms/step - loss: 0.6507 - accuracy: 0.7289 - val_loss: 0.6625 - val_accuracy: 0.7099 - lr: 4.7830e-05\n",
            "Epoch 9/30\n",
            "619/619 [==============================] - 3s 5ms/step - loss: 0.6430 - accuracy: 0.7330 - val_loss: 0.6611 - val_accuracy: 0.7103 - lr: 4.3047e-05\n",
            "Epoch 10/30\n",
            "619/619 [==============================] - 3s 6ms/step - loss: 0.6407 - accuracy: 0.7343 - val_loss: 0.6708 - val_accuracy: 0.7071 - lr: 3.8742e-05\n",
            "Epoch 11/30\n",
            "619/619 [==============================] - 5s 8ms/step - loss: 0.6364 - accuracy: 0.7358 - val_loss: 0.6597 - val_accuracy: 0.7094 - lr: 3.4868e-05\n",
            "Epoch 12/30\n",
            "619/619 [==============================] - 5s 8ms/step - loss: 0.6327 - accuracy: 0.7378 - val_loss: 0.6570 - val_accuracy: 0.7144 - lr: 3.1381e-05\n",
            "Epoch 13/30\n",
            "619/619 [==============================] - 3s 5ms/step - loss: 0.6306 - accuracy: 0.7377 - val_loss: 0.6635 - val_accuracy: 0.7044 - lr: 2.8243e-05\n",
            "Epoch 14/30\n",
            "619/619 [==============================] - 4s 6ms/step - loss: 0.6278 - accuracy: 0.7402 - val_loss: 0.6585 - val_accuracy: 0.7053 - lr: 2.5419e-05\n",
            "Epoch 15/30\n",
            "619/619 [==============================] - 5s 8ms/step - loss: 0.6252 - accuracy: 0.7415 - val_loss: 0.6567 - val_accuracy: 0.7140 - lr: 2.2877e-05\n",
            "Epoch 16/30\n",
            "619/619 [==============================] - 4s 7ms/step - loss: 0.6249 - accuracy: 0.7433 - val_loss: 0.6587 - val_accuracy: 0.7135 - lr: 2.0589e-05\n",
            "Epoch 17/30\n",
            "619/619 [==============================] - 4s 6ms/step - loss: 0.6241 - accuracy: 0.7417 - val_loss: 0.6587 - val_accuracy: 0.7012 - lr: 1.8530e-05\n",
            "Epoch 18/30\n",
            "619/619 [==============================] - 3s 6ms/step - loss: 0.6242 - accuracy: 0.7437 - val_loss: 0.6578 - val_accuracy: 0.7171 - lr: 1.6677e-05\n",
            "Epoch 19/30\n",
            "619/619 [==============================] - 5s 8ms/step - loss: 0.6222 - accuracy: 0.7452 - val_loss: 0.6565 - val_accuracy: 0.7131 - lr: 1.5009e-05\n",
            "Epoch 20/30\n",
            "619/619 [==============================] - 4s 7ms/step - loss: 0.6228 - accuracy: 0.7437 - val_loss: 0.6589 - val_accuracy: 0.7071 - lr: 1.3509e-05\n",
            "Epoch 21/30\n",
            "619/619 [==============================] - 3s 5ms/step - loss: 0.6209 - accuracy: 0.7457 - val_loss: 0.6582 - val_accuracy: 0.7099 - lr: 1.2158e-05\n",
            "Epoch 22/30\n",
            "619/619 [==============================] - 3s 6ms/step - loss: 0.6218 - accuracy: 0.7440 - val_loss: 0.6633 - val_accuracy: 0.7080 - lr: 1.0942e-05\n",
            "Epoch 23/30\n",
            "619/619 [==============================] - 5s 8ms/step - loss: 0.6192 - accuracy: 0.7448 - val_loss: 0.6601 - val_accuracy: 0.7103 - lr: 9.8477e-06\n",
            "Epoch 24/30\n",
            "619/619 [==============================] - 5s 7ms/step - loss: 0.6198 - accuracy: 0.7457 - val_loss: 0.6615 - val_accuracy: 0.7049 - lr: 8.8629e-06\n",
            "Epoch 25/30\n",
            "619/619 [==============================] - 4s 6ms/step - loss: 0.6175 - accuracy: 0.7440 - val_loss: 0.6587 - val_accuracy: 0.7053 - lr: 7.9766e-06\n",
            "Epoch 26/30\n",
            "619/619 [==============================] - 3s 6ms/step - loss: 0.6168 - accuracy: 0.7477 - val_loss: 0.6579 - val_accuracy: 0.7090 - lr: 7.1790e-06\n",
            "Epoch 27/30\n",
            "619/619 [==============================] - 4s 7ms/step - loss: 0.6201 - accuracy: 0.7470 - val_loss: 0.6572 - val_accuracy: 0.7076 - lr: 6.4611e-06\n",
            "Epoch 28/30\n",
            "619/619 [==============================] - 5s 8ms/step - loss: 0.6150 - accuracy: 0.7473 - val_loss: 0.6593 - val_accuracy: 0.7108 - lr: 5.8150e-06\n",
            "Epoch 29/30\n",
            "619/619 [==============================] - 4s 6ms/step - loss: 0.6148 - accuracy: 0.7481 - val_loss: 0.6620 - val_accuracy: 0.7108 - lr: 5.2335e-06\n",
            "Epoch 30/30\n",
            "619/619 [==============================] - 3s 5ms/step - loss: 0.6153 - accuracy: 0.7489 - val_loss: 0.6585 - val_accuracy: 0.7094 - lr: 4.7101e-06\n"
          ]
        },
        {
          "data": {
            "text/plain": [
              "<keras.src.callbacks.History at 0x7b33f5843520>"
            ]
          },
          "execution_count": 12,
          "metadata": {},
          "output_type": "execute_result"
        }
      ],
      "source": [
        "# Sentiment Prediction with RNN Neural Network and Confusion Matrix\n",
        "\n",
        "from keras.models import Sequential\n",
        "from keras.layers import Dense, SimpleRNN, Reshape, Dropout\n",
        "from keras.optimizers import Adam\n",
        "from keras.callbacks import LearningRateScheduler\n",
        "from sklearn.metrics import confusion_matrix\n",
        "import seaborn as sns\n",
        "import matplotlib.pyplot as plt\n",
        "import numpy as np\n",
        "\n",
        "# Build a neural network model with RNN\n",
        "model = Sequential()\n",
        "model.add(Dense(256, input_shape=(1024,), activation='tanh'))\n",
        "model.add(Reshape((1, 256)))\n",
        "model.add(SimpleRNN(128, activation='relu'))\n",
        "model.add(Dense(64, activation='relu'))\n",
        "model.add(Dropout(0.5))  # Adding dropout for regularization\n",
        "model.add(Dense(3, activation='softmax'))\n",
        "\n",
        "# Use a learning rate scheduler\n",
        "def lr_schedule(epoch):\n",
        "    return 0.0001 * 0.9 ** epoch\n",
        "\n",
        "opt = Adam(learning_rate=0.0001)\n",
        "lr_scheduler = LearningRateScheduler(lr_schedule)\n",
        "#\n",
        "# Compile the model\n",
        "model.compile(optimizer=opt, loss='sparse_categorical_crossentropy', metrics=['accuracy'])\n",
        "\n",
        "# Print model summary to check the architecture\n",
        "model.summary()\n",
        "\n",
        "# Train the model with the learning rate scheduler\n",
        "model.fit(X_train_embeddings, y_train, epochs=30, batch_size=32, validation_split=0.1, callbacks=[lr_scheduler])"
      ]
    },
    {
      "cell_type": "markdown",
      "metadata": {
        "id": "32_oRAmBejuj"
      },
      "source": [
        "In this architecture, we employ a feedforward neural network with three dense layers, culminating in a softmax activation layer for sentiment classification."
      ]
    },
    {
      "cell_type": "markdown",
      "metadata": {
        "id": "WLFMDGLqfugC"
      },
      "source": [
        "## Step 12: Evaluate the Model\n",
        "Finally, let's evaluate the model's performance on the validation set and calculate the accuracy:"
      ]
    },
    {
      "cell_type": "code",
      "execution_count": 13,
      "metadata": {
        "colab": {
          "base_uri": "https://localhost:8080/"
        },
        "id": "Kx4_t2UjgALF",
        "outputId": "a7c13b16-b6e1-4ba6-f0f6-6d1c1ec823bf"
      },
      "outputs": [
        {
          "name": "stdout",
          "output_type": "stream",
          "text": [
            "172/172 [==============================] - 0s 3ms/step - loss: 0.6455 - accuracy: 0.7214\n",
            "Accuracy: 72.14%\n",
            "172/172 [==============================] - 1s 2ms/step\n"
          ]
        }
      ],
      "source": [
        "# Evaluate the model on the test set\n",
        "accuracy = model.evaluate(X_test_embeddings, y_test)[1]\n",
        "print(f\"Accuracy: {accuracy * 100:.2f}%\")\n",
        "\n",
        "# Predictions on the test set\n",
        "y_pred_probabilities = model.predict(X_test_embeddings)\n",
        "y_pred = np.argmax(y_pred_probabilities, axis=1)"
      ]
    },
    {
      "cell_type": "markdown",
      "metadata": {
        "id": "xTwXSCUVfvVx"
      },
      "source": [
        "This step provides insights into how well the model generalizes to new, unseen data."
      ]
    },
    {
      "cell_type": "markdown",
      "metadata": {
        "id": "E6mdIbjPgsne"
      },
      "source": [
        "## Step 13:Evaluate with Confusion Matrix\n",
        "\n",
        "This matrix provides detailed insights into the model's predictions, showcasing true positives, true negatives, false positives, and false negatives."
      ]
    },
    {
      "cell_type": "code",
      "execution_count": 14,
      "metadata": {
        "colab": {
          "base_uri": "https://localhost:8080/",
          "height": 564
        },
        "id": "kPY816C7gEOw",
        "outputId": "8674d591-023a-4e60-892f-c7c9de13e954"
      },
      "outputs": [
        {
          "data": {
            "image/png": "[encoded data removed]",
            "text/plain": [
              "<Figure size 800x600 with 2 Axes>"
            ]
          },
          "metadata": {},
          "output_type": "display_data"
        }
      ],
      "source": [
        "cm = confusion_matrix(y_test, y_pred)\n",
        "\n",
        "# Normalize the confusion matrix\n",
        "cm_normalized = cm.astype('float') / cm.sum(axis=1)[:, np.newaxis]\n",
        "\n",
        "# Plot the normalized confusion matrix\n",
        "plt.figure(figsize=(8, 6))\n",
        "sns.heatmap(cm_normalized, annot=True, cmap='Blues', xticklabels=['Neutral', 'Positive', 'Negative'], yticklabels=['Neutral', 'Positive', 'Negative'])\n",
        "plt.title('Normalized Confusion Matrix')\n",
        "plt.xlabel('Predicted Label')\n",
        "plt.ylabel('True Label')\n",
        "plt.show()"
      ]
    },
    {
      "cell_type": "markdown",
      "metadata": {
        "id": "1B1ZP8EizqxU"
      },
      "source": [
        "## Step 14:Sentiment Prediction for User Input in Different Languages"
      ]
    },
    {
      "cell_type": "code",
      "execution_count": 16,
      "metadata": {
        "colab": {
          "base_uri": "https://localhost:8080/"
        },
        "id": "H2kJx0vKzp81",
        "outputId": "c928c764-6025-43db-de9b-c7fe8c007c03"
      },
      "outputs": [
        {
          "name": "stdout",
          "output_type": "stream",
          "text": [
            "Enter the language: english\n",
            "Enter a text: hello\n",
            "1/1 [==============================] - 0s 35ms/step\n",
            "Predicted Sentiment: neutral\n"
          ]
        }
      ],
      "source": [
        "language = input(\"Enter the language: \")\n",
        "encoder = LaserEncoderPipeline(lang=language)\n",
        "\n",
        "\n",
        "# Now, you can use the trained model to predict the sentiment of user input\n",
        "user_text = input(\"Enter a text: \")\n",
        "user_text_embedding = encoder.encode_sentences([user_text])[0]\n",
        "user_text_embedding = np.reshape(user_text_embedding, (1, -1))\n",
        "\n",
        "predicted_sentiment = np.argmax(model.predict(user_text_embedding))\n",
        "predicted_sentiment_no = label_encoder.inverse_transform([predicted_sentiment])[0]\n",
        "if predicted_sentiment_no == 1:\n",
        "  predicted_sentiment_label = 'neutral'\n",
        "elif predicted_sentiment_no == 2:\n",
        "  predicted_sentiment_label = 'positive'\n",
        "else:\n",
        "  predicted_sentiment_label = 'negative'\n",
        "\n",
        "print(f\"Predicted Sentiment: {predicted_sentiment_label}\")"
      ]
    },
    {
      "cell_type": "markdown",
      "metadata": {
        "id": "SOxFqEdwcejj"
      },
      "source": [
        "## Step 15:Sentiment Prediction for Multilingual Texts\n",
        "\n",
        "This step involves iterating through a collection of sentiments expressed in various languages, including English, Hindi, Portuguese, Romanian, Slovenian, Chinese, French, Dutch, Russian, Italian, and Bosnian.\n",
        "\n",
        "This process demonstrates the model's ability to analyze sentiments across diverse linguistic contexts and still yeild same output."
      ]
    },
    {
      "cell_type": "code",
      "execution_count": 17,
      "metadata": {
        "colab": {
          "base_uri": "https://localhost:8080/"
        },
        "id": "vjFvWEC0UOj0",
        "outputId": "69fafc61-c655-4649-fcae-bdc275c96fab"
      },
      "outputs": [
        {
          "name": "stdout",
          "output_type": "stream",
          "text": [
            "English: So sad, I'll miss you here in San Diego!!!\n",
            "1/1 [==============================] - 0s 19ms/step\n",
            "Predicted Sentiment: negative\n",
            "Hindi: बहुत दुखद, मैं तुम्हें यहां सैन डिएगो में याद करूंगा!!!\n"
          ]
        },
        {
          "name": "stderr",
          "output_type": "stream",
          "text": [
            "100%|██████████| 608M/608M [00:26<00:00, 23.0MB/s]\n"
          ]
        },
        {
          "name": "stdout",
          "output_type": "stream",
          "text": [
            "1/1 [==============================] - 0s 18ms/step\n"
          ]
        },
        {
          "name": "stderr",
          "output_type": "stream",
          "text": [
            "/usr/local/lib/python3.10/dist-packages/fairseq/models/transformer/transformer_encoder.py:281: UserWarning: The PyTorch API of nested tensors is in prototype stage and will change in the near future. (Triggered internally at ../aten/src/ATen/NestedTensorImpl.cpp:178.)\n",
            "  x = torch._nested_tensor_from_mask(\n"
          ]
        },
        {
          "name": "stdout",
          "output_type": "stream",
          "text": [
            "Predicted Sentiment: negative\n",
            "Portuguese: Tão TRISTE, sentirei sua falta aqui em San Diego!!!\n",
            "1/1 [==============================] - 0s 20ms/step\n",
            "Predicted Sentiment: negative\n",
            "Romanian: Atat de trist, o sa-mi fie dor de tine aici in San Diego!!!\n",
            "1/1 [==============================] - 0s 22ms/step\n",
            "Predicted Sentiment: negative\n",
            "Slovenian: Tako žalostno, pogrešal te bom tukaj v San Diegu!!!\n",
            "1/1 [==============================] - 0s 18ms/step\n",
            "Predicted Sentiment: negative\n",
            "Chinese: 很傷心，我會在聖地牙哥想念你！\n",
            "1/1 [==============================] - 0s 18ms/step\n",
            "Predicted Sentiment: negative\n",
            "French: Tellement triste tu vas me manquer ici à San Diego !!!\n",
            "1/1 [==============================] - 0s 26ms/step\n",
            "Predicted Sentiment: negative\n",
            "Dutch: Zo verdrietig, ik zal je missen hier in San Diego!!!\n",
            "1/1 [==============================] - 0s 19ms/step\n",
            "Predicted Sentiment: negative\n",
            "Russian: Ооочень грустно, я буду скучать по тебе здесь, в Сан-Диего!!!\n",
            "1/1 [==============================] - 0s 19ms/step\n",
            "Predicted Sentiment: negative\n",
            "Italian: Così triste, mi mancherai qui a San Diego!!!\n",
            "1/1 [==============================] - 0s 18ms/step\n",
            "Predicted Sentiment: negative\n",
            "Bosnian: Tužno, nedostajaćeš mi ovde u San Dijegu!!!\n",
            "1/1 [==============================] - 0s 18ms/step\n",
            "Predicted Sentiment: negative\n"
          ]
        }
      ],
      "source": [
        "sentiments = {\n",
        "    \"english\": \"So sad, I'll miss you here in San Diego!!!\",\n",
        "    'hindi': 'बहुत दुखद, मैं तुम्हें यहां सैन डिएगो में याद करूंगा!!!',\n",
        "    'portuguese': 'Tão TRISTE, sentirei sua falta aqui em San Diego!!!',\n",
        "    'romanian': 'Atat de trist, o sa-mi fie dor de tine aici in San Diego!!!',\n",
        "    'slovenian': 'Tako žalostno, pogrešal te bom tukaj v San Diegu!!!',\n",
        "    'chinese': '很傷心，我會在聖地牙哥想念你！',\n",
        "    'french': 'Tellement triste tu vas me manquer ici à San Diego !!!',\n",
        "    'dutch': 'Zo verdrietig, ik zal je missen hier in San Diego!!!',\n",
        "    'russian': 'Ооочень грустно, я буду скучать по тебе здесь, в Сан-Диего!!!',\n",
        "    'italian': 'Così triste, mi mancherai qui a San Diego!!!',\n",
        "    'bosnian': 'Tužno, nedostajaćeš mi ovde u San Dijegu!!!'\n",
        "}\n",
        "\n",
        "# Iterate through the dictionary and extract values\n",
        "for language, sentiment in sentiments.items():\n",
        "  print(f\"{language.capitalize()}: {sentiment}\")\n",
        "  encoder = LaserEncoderPipeline(lang=language)\n",
        "  # Now, you can use the trained model to predict the sentiment of user input\n",
        "  user_text = sentiment\n",
        "  user_text_embedding = encoder.encode_sentences([user_text])[0]\n",
        "  user_text_embedding = np.reshape(user_text_embedding, (1, -1))\n",
        "\n",
        "  predicted_sentiment = np.argmax(model.predict(user_text_embedding))\n",
        "  predicted_sentiment_no = label_encoder.inverse_transform([predicted_sentiment])[0]\n",
        "  if predicted_sentiment_no == 1:\n",
        "    predicted_sentiment_label = 'neutral'\n",
        "  elif predicted_sentiment_no == 2:\n",
        "    predicted_sentiment_label = 'positive'\n",
        "  else:\n",
        "    predicted_sentiment_label = 'negative'\n",
        "\n",
        "  print(f\"Predicted Sentiment: {predicted_sentiment_label}\")"
      ]
    },
    {
      "cell_type": "markdown",
      "metadata": {
        "id": "D76SEjLm0ZOR"
      },
      "source": [
        "Congratulations! You have completed the sentiment analysis tutorial using LASER embeddings and an RNN. Feel free to experiment with different architectures, hyperparameters, or datasets to further improve the model."
      ]
    }
  ],
  "metadata": {
    "accelerator": "GPU",
    "colab": {
      "provenance": []
    },
    "kernelspec": {
      "display_name": "Python 3",
      "name": "python3"
    },
    "language_info": {
      "name": "python"
    }
  },
  "nbformat": 4,
  "nbformat_minor": 0
}
