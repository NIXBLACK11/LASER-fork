{
  "cells": [
    {
      "cell_type": "markdown",
      "metadata": {
        "id": "OUrFprmDa40H"
      },
      "source": [
        "# Tutorial: Sentiment Analysis with LASER Embeddings and RNN\n",
        "\n",
        "In this tutorial, we will guide you through the process of installing the necessary libraries, downloading a sentiment analysis dataset, and building a sentiment analysis model using [LASER](https://github.com/facebookresearch/LASER) embeddings and a Recurrent Neural Network (RNN).\n",
        "\n"
      ]
    },
    {
      "cell_type": "markdown",
      "metadata": {
        "id": "hJETScFpJkyu"
      },
      "source": [
        "## Step 1: Installing Laser Encoder\n",
        "\n",
        "To begin, let's install the laser_encoders library along with its dependencies. These include sacremoses, sentencepiece, and fairseq. You can achieve this by running the following command:"
      ]
    },
    {
      "cell_type": "code",
      "execution_count": 1,
      "metadata": {
        "colab": {
          "base_uri": "https://localhost:8080/"
        },
        "id": "KZ_Eqn90J6CK",
        "outputId": "676c0e86-9ac7-4214-aee6-6b3740d840ab"
      },
      "outputs": [
        {
          "output_type": "stream",
          "name": "stdout",
          "text": [
            "Collecting laser_encoders\n",
            "  Downloading laser_encoders-0.0.1-py3-none-any.whl (24 kB)\n",
            "Collecting sacremoses==0.1.0 (from laser_encoders)\n",
            "  Downloading sacremoses-0.1.0-py3-none-any.whl (895 kB)\n",
            "\u001b[2K     \u001b[90m━━━━━━━━━━━━━━━━━━━━━━━━━━━━━━━━━━━━━━━━\u001b[0m \u001b[32m895.1/895.1 kB\u001b[0m \u001b[31m10.0 MB/s\u001b[0m eta \u001b[36m0:00:00\u001b[0m\n",
            "\u001b[?25hCollecting unicategories>=0.1.2 (from laser_encoders)\n",
            "  Downloading unicategories-0.1.2.tar.gz (12 kB)\n",
            "  Preparing metadata (setup.py) ... \u001b[?25l\u001b[?25hdone\n",
            "Collecting sentencepiece>=0.1.99 (from laser_encoders)\n",
            "  Downloading sentencepiece-0.1.99-cp310-cp310-manylinux_2_17_x86_64.manylinux2014_x86_64.whl (1.3 MB)\n",
            "\u001b[2K     \u001b[90m━━━━━━━━━━━━━━━━━━━━━━━━━━━━━━━━━━━━━━━━\u001b[0m \u001b[32m1.3/1.3 MB\u001b[0m \u001b[31m20.4 MB/s\u001b[0m eta \u001b[36m0:00:00\u001b[0m\n",
            "\u001b[?25hRequirement already satisfied: numpy>=1.21.3 in /usr/local/lib/python3.10/dist-packages (from laser_encoders) (1.23.5)\n",
            "Requirement already satisfied: torch>=1.10.0 in /usr/local/lib/python3.10/dist-packages (from laser_encoders) (2.1.0+cu118)\n",
            "Collecting fairseq>=0.12.2 (from laser_encoders)\n",
            "  Downloading fairseq-0.12.2.tar.gz (9.6 MB)\n",
            "\u001b[2K     \u001b[90m━━━━━━━━━━━━━━━━━━━━━━━━━━━━━━━━━━━━━━━━\u001b[0m \u001b[32m9.6/9.6 MB\u001b[0m \u001b[31m46.3 MB/s\u001b[0m eta \u001b[36m0:00:00\u001b[0m\n",
            "\u001b[?25h  Installing build dependencies ... \u001b[?25l\u001b[?25hdone\n",
            "  Getting requirements to build wheel ... \u001b[?25l\u001b[?25hdone\n",
            "  Installing backend dependencies ... \u001b[?25l\u001b[?25hdone\n",
            "  Preparing metadata (pyproject.toml) ... \u001b[?25l\u001b[?25hdone\n",
            "Requirement already satisfied: regex in /usr/local/lib/python3.10/dist-packages (from sacremoses==0.1.0->laser_encoders) (2023.6.3)\n",
            "Requirement already satisfied: click in /usr/local/lib/python3.10/dist-packages (from sacremoses==0.1.0->laser_encoders) (8.1.7)\n",
            "Requirement already satisfied: joblib in /usr/local/lib/python3.10/dist-packages (from sacremoses==0.1.0->laser_encoders) (1.3.2)\n",
            "Requirement already satisfied: tqdm in /usr/local/lib/python3.10/dist-packages (from sacremoses==0.1.0->laser_encoders) (4.66.1)\n",
            "Requirement already satisfied: cffi in /usr/local/lib/python3.10/dist-packages (from fairseq>=0.12.2->laser_encoders) (1.16.0)\n",
            "Requirement already satisfied: cython in /usr/local/lib/python3.10/dist-packages (from fairseq>=0.12.2->laser_encoders) (3.0.6)\n",
            "Collecting hydra-core<1.1,>=1.0.7 (from fairseq>=0.12.2->laser_encoders)\n",
            "  Downloading hydra_core-1.0.7-py3-none-any.whl (123 kB)\n",
            "\u001b[2K     \u001b[90m━━━━━━━━━━━━━━━━━━━━━━━━━━━━━━━━━━━━━━━━\u001b[0m \u001b[32m123.8/123.8 kB\u001b[0m \u001b[31m17.7 MB/s\u001b[0m eta \u001b[36m0:00:00\u001b[0m\n",
            "\u001b[?25hCollecting omegaconf<2.1 (from fairseq>=0.12.2->laser_encoders)\n",
            "  Downloading omegaconf-2.0.6-py3-none-any.whl (36 kB)\n",
            "Collecting sacrebleu>=1.4.12 (from fairseq>=0.12.2->laser_encoders)\n",
            "  Downloading sacrebleu-2.3.3-py3-none-any.whl (106 kB)\n",
            "\u001b[2K     \u001b[90m━━━━━━━━━━━━━━━━━━━━━━━━━━━━━━━━━━━━━━━━\u001b[0m \u001b[32m106.4/106.4 kB\u001b[0m \u001b[31m15.9 MB/s\u001b[0m eta \u001b[36m0:00:00\u001b[0m\n",
            "\u001b[?25hCollecting bitarray (from fairseq>=0.12.2->laser_encoders)\n",
            "  Downloading bitarray-2.8.4-cp310-cp310-manylinux_2_17_x86_64.manylinux2014_x86_64.whl (279 kB)\n",
            "\u001b[2K     \u001b[90m━━━━━━━━━━━━━━━━━━━━━━━━━━━━━━━━━━━━━━━━\u001b[0m \u001b[32m279.9/279.9 kB\u001b[0m \u001b[31m33.5 MB/s\u001b[0m eta \u001b[36m0:00:00\u001b[0m\n",
            "\u001b[?25hRequirement already satisfied: torchaudio>=0.8.0 in /usr/local/lib/python3.10/dist-packages (from fairseq>=0.12.2->laser_encoders) (2.1.0+cu118)\n",
            "Requirement already satisfied: filelock in /usr/local/lib/python3.10/dist-packages (from torch>=1.10.0->laser_encoders) (3.13.1)\n",
            "Requirement already satisfied: typing-extensions in /usr/local/lib/python3.10/dist-packages (from torch>=1.10.0->laser_encoders) (4.5.0)\n",
            "Requirement already satisfied: sympy in /usr/local/lib/python3.10/dist-packages (from torch>=1.10.0->laser_encoders) (1.12)\n",
            "Requirement already satisfied: networkx in /usr/local/lib/python3.10/dist-packages (from torch>=1.10.0->laser_encoders) (3.2.1)\n",
            "Requirement already satisfied: jinja2 in /usr/local/lib/python3.10/dist-packages (from torch>=1.10.0->laser_encoders) (3.1.2)\n",
            "Requirement already satisfied: fsspec in /usr/local/lib/python3.10/dist-packages (from torch>=1.10.0->laser_encoders) (2023.6.0)\n",
            "Requirement already satisfied: triton==2.1.0 in /usr/local/lib/python3.10/dist-packages (from torch>=1.10.0->laser_encoders) (2.1.0)\n",
            "Requirement already satisfied: appdirs in /usr/local/lib/python3.10/dist-packages (from unicategories>=0.1.2->laser_encoders) (1.4.4)\n",
            "Collecting antlr4-python3-runtime==4.8 (from hydra-core<1.1,>=1.0.7->fairseq>=0.12.2->laser_encoders)\n",
            "  Downloading antlr4-python3-runtime-4.8.tar.gz (112 kB)\n",
            "\u001b[2K     \u001b[90m━━━━━━━━━━━━━━━━━━━━━━━━━━━━━━━━━━━━━━━━\u001b[0m \u001b[32m112.4/112.4 kB\u001b[0m \u001b[31m17.4 MB/s\u001b[0m eta \u001b[36m0:00:00\u001b[0m\n",
            "\u001b[?25h  Preparing metadata (setup.py) ... \u001b[?25l\u001b[?25hdone\n",
            "Requirement already satisfied: PyYAML>=5.1.* in /usr/local/lib/python3.10/dist-packages (from omegaconf<2.1->fairseq>=0.12.2->laser_encoders) (6.0.1)\n",
            "Collecting portalocker (from sacrebleu>=1.4.12->fairseq>=0.12.2->laser_encoders)\n",
            "  Downloading portalocker-2.8.2-py3-none-any.whl (17 kB)\n",
            "Requirement already satisfied: tabulate>=0.8.9 in /usr/local/lib/python3.10/dist-packages (from sacrebleu>=1.4.12->fairseq>=0.12.2->laser_encoders) (0.9.0)\n",
            "Collecting colorama (from sacrebleu>=1.4.12->fairseq>=0.12.2->laser_encoders)\n",
            "  Downloading colorama-0.4.6-py2.py3-none-any.whl (25 kB)\n",
            "Requirement already satisfied: lxml in /usr/local/lib/python3.10/dist-packages (from sacrebleu>=1.4.12->fairseq>=0.12.2->laser_encoders) (4.9.3)\n",
            "Requirement already satisfied: pycparser in /usr/local/lib/python3.10/dist-packages (from cffi->fairseq>=0.12.2->laser_encoders) (2.21)\n",
            "Requirement already satisfied: MarkupSafe>=2.0 in /usr/local/lib/python3.10/dist-packages (from jinja2->torch>=1.10.0->laser_encoders) (2.1.3)\n",
            "Requirement already satisfied: mpmath>=0.19 in /usr/local/lib/python3.10/dist-packages (from sympy->torch>=1.10.0->laser_encoders) (1.3.0)\n",
            "Building wheels for collected packages: fairseq, unicategories, antlr4-python3-runtime\n",
            "  Building wheel for fairseq (pyproject.toml) ... \u001b[?25l\u001b[?25hdone\n",
            "  Created wheel for fairseq: filename=fairseq-0.12.2-cp310-cp310-linux_x86_64.whl size=11291810 sha256=b3ff4cd627ac15739369c768af1fa74a1c911e60d10bc09570d8c04384072df5\n",
            "  Stored in directory: /root/.cache/pip/wheels/e4/35/55/9c66f65ec7c83fd6fbc2b9502a0ac81b2448a1196159dacc32\n",
            "  Building wheel for unicategories (setup.py) ... \u001b[?25l\u001b[?25hdone\n",
            "  Created wheel for unicategories: filename=unicategories-0.1.2-py2.py3-none-any.whl size=30843 sha256=fb20e9008f97ee786cb12128df14de420df546539f285aebfdf4f3829946c070\n",
            "  Stored in directory: /root/.cache/pip/wheels/0b/6d/14/7135674b9daa3996f7f0d9bc1ccff5b7d50d6f1c4a16dc7d90\n",
            "  Building wheel for antlr4-python3-runtime (setup.py) ... \u001b[?25l\u001b[?25hdone\n",
            "  Created wheel for antlr4-python3-runtime: filename=antlr4_python3_runtime-4.8-py3-none-any.whl size=141210 sha256=682ffa050c1760f3146c3a701817c59ead0a92d6dd2f0aaa79e31cbb1c4d8f9a\n",
            "  Stored in directory: /root/.cache/pip/wheels/a7/20/bd/e1477d664f22d99989fd28ee1a43d6633dddb5cb9e801350d5\n",
            "Successfully built fairseq unicategories antlr4-python3-runtime\n",
            "Installing collected packages: sentencepiece, bitarray, antlr4-python3-runtime, unicategories, sacremoses, portalocker, omegaconf, colorama, sacrebleu, hydra-core, fairseq, laser_encoders\n",
            "Successfully installed antlr4-python3-runtime-4.8 bitarray-2.8.4 colorama-0.4.6 fairseq-0.12.2 hydra-core-1.0.7 laser_encoders-0.0.1 omegaconf-2.0.6 portalocker-2.8.2 sacrebleu-2.3.3 sacremoses-0.1.0 sentencepiece-0.1.99 unicategories-0.1.2\n"
          ]
        }
      ],
      "source": [
        "! pip install laser_encoders"
      ]
    },
    {
      "cell_type": "markdown",
      "metadata": {
        "id": "F-BHLZZTbq5_"
      },
      "source": [
        "This ensures that you have all the required packages for this tutorial."
      ]
    },
    {
      "cell_type": "markdown",
      "metadata": {
        "id": "4qYPrbjXcNjK"
      },
      "source": [
        "## Step 2: Install Additional Libraries\n",
        "\n",
        "Before we proceed, let's install the chardet library, which is handy for detecting the encoding of the dataset."
      ]
    },
    {
      "cell_type": "code",
      "execution_count": 2,
      "metadata": {
        "colab": {
          "base_uri": "https://localhost:8080/"
        },
        "id": "bxnIqaniSXbG",
        "outputId": "de4afbae-4246-42e1-e846-d928f4b6b520"
      },
      "outputs": [
        {
          "output_type": "stream",
          "name": "stdout",
          "text": [
            "Requirement already satisfied: chardet in /usr/local/lib/python3.10/dist-packages (5.2.0)\n",
            "Collecting datasets\n",
            "  Downloading datasets-2.15.0-py3-none-any.whl (521 kB)\n",
            "\u001b[2K     \u001b[90m━━━━━━━━━━━━━━━━━━━━━━━━━━━━━━━━━━━━━━━━\u001b[0m \u001b[32m521.2/521.2 kB\u001b[0m \u001b[31m7.2 MB/s\u001b[0m eta \u001b[36m0:00:00\u001b[0m\n",
            "\u001b[?25hRequirement already satisfied: numpy>=1.17 in /usr/local/lib/python3.10/dist-packages (from datasets) (1.23.5)\n",
            "Requirement already satisfied: pyarrow>=8.0.0 in /usr/local/lib/python3.10/dist-packages (from datasets) (9.0.0)\n",
            "Collecting pyarrow-hotfix (from datasets)\n",
            "  Downloading pyarrow_hotfix-0.6-py3-none-any.whl (7.9 kB)\n",
            "Collecting dill<0.3.8,>=0.3.0 (from datasets)\n",
            "  Downloading dill-0.3.7-py3-none-any.whl (115 kB)\n",
            "\u001b[2K     \u001b[90m━━━━━━━━━━━━━━━━━━━━━━━━━━━━━━━━━━━━━━━━\u001b[0m \u001b[32m115.3/115.3 kB\u001b[0m \u001b[31m8.0 MB/s\u001b[0m eta \u001b[36m0:00:00\u001b[0m\n",
            "\u001b[?25hRequirement already satisfied: pandas in /usr/local/lib/python3.10/dist-packages (from datasets) (1.5.3)\n",
            "Requirement already satisfied: requests>=2.19.0 in /usr/local/lib/python3.10/dist-packages (from datasets) (2.31.0)\n",
            "Requirement already satisfied: tqdm>=4.62.1 in /usr/local/lib/python3.10/dist-packages (from datasets) (4.66.1)\n",
            "Requirement already satisfied: xxhash in /usr/local/lib/python3.10/dist-packages (from datasets) (3.4.1)\n",
            "Collecting multiprocess (from datasets)\n",
            "  Downloading multiprocess-0.70.15-py310-none-any.whl (134 kB)\n",
            "\u001b[2K     \u001b[90m━━━━━━━━━━━━━━━━━━━━━━━━━━━━━━━━━━━━━━━━\u001b[0m \u001b[32m134.8/134.8 kB\u001b[0m \u001b[31m11.8 MB/s\u001b[0m eta \u001b[36m0:00:00\u001b[0m\n",
            "\u001b[?25hRequirement already satisfied: fsspec[http]<=2023.10.0,>=2023.1.0 in /usr/local/lib/python3.10/dist-packages (from datasets) (2023.6.0)\n",
            "Requirement already satisfied: aiohttp in /usr/local/lib/python3.10/dist-packages (from datasets) (3.9.1)\n",
            "Requirement already satisfied: huggingface-hub>=0.18.0 in /usr/local/lib/python3.10/dist-packages (from datasets) (0.19.4)\n",
            "Requirement already satisfied: packaging in /usr/local/lib/python3.10/dist-packages (from datasets) (23.2)\n",
            "Requirement already satisfied: pyyaml>=5.1 in /usr/local/lib/python3.10/dist-packages (from datasets) (6.0.1)\n",
            "Requirement already satisfied: attrs>=17.3.0 in /usr/local/lib/python3.10/dist-packages (from aiohttp->datasets) (23.1.0)\n",
            "Requirement already satisfied: multidict<7.0,>=4.5 in /usr/local/lib/python3.10/dist-packages (from aiohttp->datasets) (6.0.4)\n",
            "Requirement already satisfied: yarl<2.0,>=1.0 in /usr/local/lib/python3.10/dist-packages (from aiohttp->datasets) (1.9.3)\n",
            "Requirement already satisfied: frozenlist>=1.1.1 in /usr/local/lib/python3.10/dist-packages (from aiohttp->datasets) (1.4.0)\n",
            "Requirement already satisfied: aiosignal>=1.1.2 in /usr/local/lib/python3.10/dist-packages (from aiohttp->datasets) (1.3.1)\n",
            "Requirement already satisfied: async-timeout<5.0,>=4.0 in /usr/local/lib/python3.10/dist-packages (from aiohttp->datasets) (4.0.3)\n",
            "Requirement already satisfied: filelock in /usr/local/lib/python3.10/dist-packages (from huggingface-hub>=0.18.0->datasets) (3.13.1)\n",
            "Requirement already satisfied: typing-extensions>=3.7.4.3 in /usr/local/lib/python3.10/dist-packages (from huggingface-hub>=0.18.0->datasets) (4.5.0)\n",
            "Requirement already satisfied: charset-normalizer<4,>=2 in /usr/local/lib/python3.10/dist-packages (from requests>=2.19.0->datasets) (3.3.2)\n",
            "Requirement already satisfied: idna<4,>=2.5 in /usr/local/lib/python3.10/dist-packages (from requests>=2.19.0->datasets) (3.6)\n",
            "Requirement already satisfied: urllib3<3,>=1.21.1 in /usr/local/lib/python3.10/dist-packages (from requests>=2.19.0->datasets) (2.0.7)\n",
            "Requirement already satisfied: certifi>=2017.4.17 in /usr/local/lib/python3.10/dist-packages (from requests>=2.19.0->datasets) (2023.11.17)\n",
            "Requirement already satisfied: python-dateutil>=2.8.1 in /usr/local/lib/python3.10/dist-packages (from pandas->datasets) (2.8.2)\n",
            "Requirement already satisfied: pytz>=2020.1 in /usr/local/lib/python3.10/dist-packages (from pandas->datasets) (2023.3.post1)\n",
            "Requirement already satisfied: six>=1.5 in /usr/local/lib/python3.10/dist-packages (from python-dateutil>=2.8.1->pandas->datasets) (1.16.0)\n",
            "Installing collected packages: pyarrow-hotfix, dill, multiprocess, datasets\n",
            "Successfully installed datasets-2.15.0 dill-0.3.7 multiprocess-0.70.15 pyarrow-hotfix-0.6\n"
          ]
        }
      ],
      "source": [
        "!pip install chardet\n",
        "!pip install datasets"
      ]
    },
    {
      "cell_type": "markdown",
      "metadata": {
        "id": "rgBj7FdeVIZn"
      },
      "source": [
        "## Step 3: Import Necessary Libraries\n",
        "\n",
        "Now, let's import the libraries required for data manipulation, encoding, and model building."
      ]
    },
    {
      "cell_type": "code",
      "execution_count": 15,
      "metadata": {
        "id": "LN0F4-9AR8_k"
      },
      "outputs": [],
      "source": [
        "import numpy as np\n",
        "import pandas as pd\n",
        "import chardet\n",
        "import matplotlib.pyplot as plt\n",
        "from laser_encoders import LaserEncoderPipeline\n",
        "from sklearn.model_selection import train_test_split\n",
        "from sklearn.metrics import accuracy_score\n",
        "from sklearn.linear_model import LogisticRegression\n",
        "from sklearn.preprocessing import LabelEncoder\n",
        "from tensorflow.keras.models import Sequential\n",
        "from tensorflow.keras.layers import Dense\n",
        "from tqdm import tqdm\n",
        "from datasets import load_dataset\n",
        "from collections import Counter"
      ]
    },
    {
      "cell_type": "markdown",
      "metadata": {
        "id": "HI_joOxsc-l7"
      },
      "source": [
        "These libraries will be crucial for various stages of the tutorial."
      ]
    },
    {
      "cell_type": "markdown",
      "metadata": {
        "id": "RPQyhOAyVM-X"
      },
      "source": [
        "## Step 4: Load the Dataset\n",
        "\n",
        "\n",
        "The provided code loads a Twitter sentiment analysis dataset named \"carblacac/twitter-sentiment-analysis\" using the Hugging Face datasets library.\n",
        "You can explore the dataset at [Twitter sentiment analysis](https://huggingface.co/datasets/carblacac/twitter-sentiment-analysis)."
      ]
    },
    {
      "cell_type": "code",
      "execution_count": 6,
      "metadata": {
        "id": "K0CKtslqNlQg"
      },
      "outputs": [],
      "source": [
        "dataset_name = \"carblacac/twitter-sentiment-analysis\"\n",
        "\n",
        "# Load the dataset using the dataset name\n",
        "custom_dataset = load_dataset(dataset_name)\n",
        "\n",
        "# Convert the dataset to a Pandas DataFrame\n",
        "data = pd.DataFrame(custom_dataset['train'])"
      ]
    },
    {
      "cell_type": "markdown",
      "metadata": {
        "id": "-nTtk4wSdPYV"
      },
      "source": [
        "## Step 5: Data Processing\n",
        "\n",
        "Before diving into model training, let's shuffle the dataset for better generalization:"
      ]
    },
    {
      "cell_type": "code",
      "execution_count": 7,
      "metadata": {
        "colab": {
          "base_uri": "https://localhost:8080/"
        },
        "id": "hPqyJk2wNsye",
        "outputId": "9c7f97bd-0bd3-450f-fb60-aefe5fe31ae5"
      },
      "outputs": [
        {
          "output_type": "stream",
          "name": "stdout",
          "text": [
            "                                                     text  feeling\n",
            "49265   @dink76 I know I wish I had gone too. Hopefull...        1\n",
            "114648  @emily_c getting knocked up will do that to yo...        0\n",
            "87711   @rlanthony hell, I am awake and have things to...        0\n",
            "38042   @danslamer  boy problems? I saw matt taylor at...        0\n",
            "57981   @lady_karelia  Sem:  Just about. You can't get...        1\n",
            "(119988, 2)\n"
          ]
        }
      ],
      "source": [
        "data = data.sample(frac=1)\n",
        "print(data.head())\n",
        "print(data.shape)"
      ]
    },
    {
      "cell_type": "markdown",
      "metadata": {
        "id": "5h7xuCWBdWB8"
      },
      "source": [
        "Shuffling helps prevent any potential biases in the data.\n",
        "\n"
      ]
    },
    {
      "cell_type": "markdown",
      "metadata": {
        "id": "XcDOh4mS1JZ0"
      },
      "source": [
        "## Step 6:Visualizing Sentiment Distribution in the Dataset\n",
        "\n",
        "This step involves creating a bar plot to visualize the distribution of sentiments in the dataset."
      ]
    },
    {
      "cell_type": "code",
      "execution_count": 9,
      "metadata": {
        "colab": {
          "base_uri": "https://localhost:8080/",
          "height": 613
        },
        "id": "TLp-3OE91Dp4",
        "outputId": "bca8c121-5488-4d84-ee2d-b80362822f43"
      },
      "outputs": [
        {
          "output_type": "display_data",
          "data": {
            "text/plain": [
              "<Figure size 1000x600 with 1 Axes>"
            ],
            "image/png": "[encoded data removed]"
          },
          "metadata": {}
        }
      ],
      "source": [
        "plt.figure(figsize=(10, 6))\n",
        "ax = data['feeling'].value_counts().plot(kind='bar', color=['red', 'blue'])\n",
        "ax.set_title('Sentiment Distribution')\n",
        "ax.set_xlabel('Sentiment')\n",
        "ax.set_ylabel('Count')\n",
        "\n",
        "labels = ['Negative', 'Positive']\n",
        "ax.set_xticks([0, 1])\n",
        "ax.set_xticklabels(labels)\n",
        "\n",
        "plt.show()"
      ]
    },
    {
      "cell_type": "markdown",
      "metadata": {
        "id": "xgpZZMfI5NWv"
      },
      "source": [
        "## Step 7: Extract Sentiments and Texts from DataFrame\n",
        "\n",
        "Now, we'll extract sentiments and texts from the DataFrame."
      ]
    },
    {
      "cell_type": "code",
      "execution_count": 11,
      "metadata": {
        "colab": {
          "base_uri": "https://localhost:8080/"
        },
        "id": "fmkM4YiSVRym",
        "outputId": "6c086564-4485-43bf-f757-d4673cc451f2"
      },
      "outputs": [
        {
          "output_type": "stream",
          "name": "stdout",
          "text": [
            "119988\n",
            "119988\n"
          ]
        }
      ],
      "source": [
        "sentiments = []\n",
        "texts = []\n",
        "\n",
        "for index, row in data.iterrows():\n",
        "  sentiment = row['feeling']\n",
        "  sentiments.append(sentiment)\n",
        "\n",
        "  text = row['text'].lower()\n",
        "  texts.append(text)\n",
        "\n",
        "print(len(sentiments))\n",
        "print(len(texts))"
      ]
    },
    {
      "cell_type": "markdown",
      "metadata": {
        "id": "OttHuyrLd5HR"
      },
      "source": [
        "This step prepares the data by converting sentiments and texts into a suitable format for training.\n",
        "\n"
      ]
    },
    {
      "cell_type": "markdown",
      "metadata": {
        "id": "RYAKRFt_d87z"
      },
      "source": [
        "## Step 8: Split the Dataset\n",
        "\n",
        "For model training and evaluation, we'll split the dataset into training and validation sets:"
      ]
    },
    {
      "cell_type": "code",
      "execution_count": 19,
      "metadata": {
        "colab": {
          "base_uri": "https://localhost:8080/"
        },
        "id": "GOUNpqmlfMV5",
        "outputId": "78094cd1-a202-4d2e-977d-49c126fb0053"
      },
      "outputs": [
        {
          "output_type": "stream",
          "name": "stdout",
          "text": [
            "Training set - Class distribution:\n",
            "Class 0: 9595\n",
            "Class 1: 9603\n",
            "\n",
            "Test set - Class distribution:\n",
            "Class 0: 2399\n",
            "Class 1: 2401\n"
          ]
        }
      ],
      "source": [
        "label_encoder = LabelEncoder()\n",
        "encoded_sentiments = label_encoder.fit_transform(sentiments)\n",
        "\n",
        "# Split into training and temporary sets with stratification\n",
        "X_train_temp, X_temp, y_train_temp, y_temp = train_test_split(\n",
        "    texts, encoded_sentiments,\n",
        "    test_size=0.2,\n",
        "    random_state=42,\n",
        "    stratify=encoded_sentiments\n",
        ")\n",
        "\n",
        "# Split the temporary set into the final training and test sets with stratification\n",
        "X_train, X_test, y_train, y_test = train_test_split(\n",
        "    X_temp, y_temp,\n",
        "    test_size=0.2,\n",
        "    random_state=42,\n",
        "    stratify=y_temp\n",
        ")\n",
        "\n",
        "counter_train = Counter(y_train)\n",
        "counter_test = Counter(y_test)\n",
        "\n",
        "print(\"Training set - Class distribution:\")\n",
        "print(\"Class 0:\", counter_train[0])\n",
        "print(\"Class 1:\", counter_train[1])\n",
        "\n",
        "print(\"\\nTest set - Class distribution:\")\n",
        "print(\"Class 0:\", counter_test[0])\n",
        "print(\"Class 1:\", counter_test[1])\n",
        "\n",
        "\n",
        "# Initialize the LaserEncoder\n",
        "encoder = LaserEncoderPipeline(lang=\"eng_Latn\")"
      ]
    },
    {
      "cell_type": "markdown",
      "metadata": {
        "id": "x2vziPx6eSDs"
      },
      "source": [
        "A good practice is to reserve a portion of the data for validation to assess the model's performance."
      ]
    },
    {
      "cell_type": "markdown",
      "metadata": {
        "id": "KKLdd5MO5hoE"
      },
      "source": [
        "## Step 9: LASER Embeddings\n",
        "\n",
        "Now, let's leverage LASER embeddings to convert the text data into numerical representations:"
      ]
    },
    {
      "cell_type": "code",
      "execution_count": 20,
      "metadata": {
        "colab": {
          "base_uri": "https://localhost:8080/"
        },
        "id": "3yrXnFZWzTv3",
        "outputId": "8e7e4a14-c6c6-447a-a0eb-ad664dfd359b"
      },
      "outputs": [
        {
          "output_type": "stream",
          "name": "stdout",
          "text": [
            "Encoding training sentences:\n"
          ]
        },
        {
          "output_type": "stream",
          "name": "stderr",
          "text": [
            "100%|██████████| 19198/19198 [02:23<00:00, 133.89it/s]\n"
          ]
        },
        {
          "output_type": "stream",
          "name": "stdout",
          "text": [
            "Encoding testing sentences:\n"
          ]
        },
        {
          "output_type": "stream",
          "name": "stderr",
          "text": [
            "100%|██████████| 4800/4800 [00:34<00:00, 137.51it/s]\n"
          ]
        }
      ],
      "source": [
        "# Initialize empty arrays to store embeddings\n",
        "X_train_embeddings = []\n",
        "X_test_embeddings = []\n",
        "\n",
        "# Encode sentences line-wise using tqdm for progress visualization\n",
        "print(\"Encoding training sentences:\")\n",
        "for sentence in tqdm(X_train):\n",
        "    embeddings = encoder.encode_sentences([sentence])[0]\n",
        "    X_train_embeddings.append(embeddings)\n",
        "\n",
        "print(\"Encoding testing sentences:\")\n",
        "for sentence in tqdm(X_test):\n",
        "    embeddings = encoder.encode_sentences([sentence])[0]\n",
        "    X_test_embeddings.append(embeddings)\n",
        "\n",
        "# Convert lists to numpy arrays\n",
        "X_train_embeddings = np.array(X_train_embeddings)\n",
        "X_test_embeddings = np.array(X_test_embeddings)"
      ]
    },
    {
      "cell_type": "markdown",
      "metadata": {
        "id": "7HeCXoUvefhT"
      },
      "source": [
        "## Step 10: Build and Train the RNN Model\n",
        "\n",
        "With the data ready, it's time to build and train our sentiment analysis model using a simple RNN architecture:"
      ]
    },
    {
      "cell_type": "code",
      "execution_count": 21,
      "metadata": {
        "colab": {
          "base_uri": "https://localhost:8080/"
        },
        "id": "7-7mYJsmWKVT",
        "outputId": "0900cc82-fc4e-4235-a792-61b951c0bc1a"
      },
      "outputs": [
        {
          "output_type": "stream",
          "name": "stdout",
          "text": [
            "Model: \"sequential\"\n",
            "_________________________________________________________________\n",
            " Layer (type)                Output Shape              Param #   \n",
            "=================================================================\n",
            " dense (Dense)               (None, 256)               262400    \n",
            "                                                                 \n",
            " reshape (Reshape)           (None, 1, 256)            0         \n",
            "                                                                 \n",
            " simple_rnn (SimpleRNN)      (None, 128)               49280     \n",
            "                                                                 \n",
            " dense_1 (Dense)             (None, 64)                8256      \n",
            "                                                                 \n",
            " dropout (Dropout)           (None, 64)                0         \n",
            "                                                                 \n",
            " dense_2 (Dense)             (None, 2)                 130       \n",
            "                                                                 \n",
            "=================================================================\n",
            "Total params: 320066 (1.22 MB)\n",
            "Trainable params: 320066 (1.22 MB)\n",
            "Non-trainable params: 0 (0.00 Byte)\n",
            "_________________________________________________________________\n",
            "Epoch 1/30\n",
            "540/540 [==============================] - 10s 6ms/step - loss: 0.6148 - accuracy: 0.6692 - val_loss: 0.5603 - val_accuracy: 0.7120 - lr: 1.0000e-04\n",
            "Epoch 2/30\n",
            "540/540 [==============================] - 4s 7ms/step - loss: 0.5164 - accuracy: 0.7501 - val_loss: 0.4899 - val_accuracy: 0.7646 - lr: 9.0000e-05\n",
            "Epoch 3/30\n",
            "540/540 [==============================] - 4s 8ms/step - loss: 0.4942 - accuracy: 0.7653 - val_loss: 0.4810 - val_accuracy: 0.7635 - lr: 8.1000e-05\n",
            "Epoch 4/30\n",
            "540/540 [==============================] - 3s 6ms/step - loss: 0.4833 - accuracy: 0.7751 - val_loss: 0.4821 - val_accuracy: 0.7703 - lr: 7.2900e-05\n",
            "Epoch 5/30\n",
            "540/540 [==============================] - 3s 6ms/step - loss: 0.4764 - accuracy: 0.7780 - val_loss: 0.4741 - val_accuracy: 0.7745 - lr: 6.5610e-05\n",
            "Epoch 6/30\n",
            "540/540 [==============================] - 4s 7ms/step - loss: 0.4703 - accuracy: 0.7824 - val_loss: 0.4743 - val_accuracy: 0.7734 - lr: 5.9049e-05\n",
            "Epoch 7/30\n",
            "540/540 [==============================] - 4s 8ms/step - loss: 0.4650 - accuracy: 0.7874 - val_loss: 0.4731 - val_accuracy: 0.7729 - lr: 5.3144e-05\n",
            "Epoch 8/30\n",
            "540/540 [==============================] - 3s 6ms/step - loss: 0.4621 - accuracy: 0.7877 - val_loss: 0.4708 - val_accuracy: 0.7734 - lr: 4.7830e-05\n",
            "Epoch 9/30\n",
            "540/540 [==============================] - 3s 6ms/step - loss: 0.4594 - accuracy: 0.7894 - val_loss: 0.4693 - val_accuracy: 0.7708 - lr: 4.3047e-05\n",
            "Epoch 10/30\n",
            "540/540 [==============================] - 4s 7ms/step - loss: 0.4566 - accuracy: 0.7926 - val_loss: 0.4694 - val_accuracy: 0.7750 - lr: 3.8742e-05\n",
            "Epoch 11/30\n",
            "540/540 [==============================] - 4s 8ms/step - loss: 0.4543 - accuracy: 0.7914 - val_loss: 0.4695 - val_accuracy: 0.7719 - lr: 3.4868e-05\n",
            "Epoch 12/30\n",
            "540/540 [==============================] - 3s 6ms/step - loss: 0.4544 - accuracy: 0.7941 - val_loss: 0.4705 - val_accuracy: 0.7724 - lr: 3.1381e-05\n",
            "Epoch 13/30\n",
            "540/540 [==============================] - 3s 6ms/step - loss: 0.4512 - accuracy: 0.7949 - val_loss: 0.4698 - val_accuracy: 0.7729 - lr: 2.8243e-05\n",
            "Epoch 14/30\n",
            "540/540 [==============================] - 4s 7ms/step - loss: 0.4501 - accuracy: 0.7929 - val_loss: 0.4690 - val_accuracy: 0.7797 - lr: 2.5419e-05\n",
            "Epoch 15/30\n",
            "540/540 [==============================] - 4s 7ms/step - loss: 0.4477 - accuracy: 0.7954 - val_loss: 0.4685 - val_accuracy: 0.7792 - lr: 2.2877e-05\n",
            "Epoch 16/30\n",
            "540/540 [==============================] - 3s 6ms/step - loss: 0.4476 - accuracy: 0.7951 - val_loss: 0.4712 - val_accuracy: 0.7818 - lr: 2.0589e-05\n",
            "Epoch 17/30\n",
            "540/540 [==============================] - 3s 6ms/step - loss: 0.4471 - accuracy: 0.7959 - val_loss: 0.4709 - val_accuracy: 0.7750 - lr: 1.8530e-05\n",
            "Epoch 18/30\n",
            "540/540 [==============================] - 4s 7ms/step - loss: 0.4444 - accuracy: 0.7969 - val_loss: 0.4714 - val_accuracy: 0.7724 - lr: 1.6677e-05\n",
            "Epoch 19/30\n",
            "540/540 [==============================] - 4s 7ms/step - loss: 0.4436 - accuracy: 0.7967 - val_loss: 0.4698 - val_accuracy: 0.7771 - lr: 1.5009e-05\n",
            "Epoch 20/30\n",
            "540/540 [==============================] - 3s 6ms/step - loss: 0.4458 - accuracy: 0.7972 - val_loss: 0.4699 - val_accuracy: 0.7750 - lr: 1.3509e-05\n",
            "Epoch 21/30\n",
            "540/540 [==============================] - 3s 6ms/step - loss: 0.4428 - accuracy: 0.7958 - val_loss: 0.4703 - val_accuracy: 0.7781 - lr: 1.2158e-05\n",
            "Epoch 22/30\n",
            "540/540 [==============================] - 4s 7ms/step - loss: 0.4425 - accuracy: 0.7957 - val_loss: 0.4701 - val_accuracy: 0.7771 - lr: 1.0942e-05\n",
            "Epoch 23/30\n",
            "540/540 [==============================] - 5s 10ms/step - loss: 0.4425 - accuracy: 0.7984 - val_loss: 0.4708 - val_accuracy: 0.7755 - lr: 9.8477e-06\n",
            "Epoch 24/30\n",
            "540/540 [==============================] - 3s 6ms/step - loss: 0.4415 - accuracy: 0.7981 - val_loss: 0.4733 - val_accuracy: 0.7724 - lr: 8.8629e-06\n",
            "Epoch 25/30\n",
            "540/540 [==============================] - 3s 6ms/step - loss: 0.4416 - accuracy: 0.7993 - val_loss: 0.4705 - val_accuracy: 0.7745 - lr: 7.9766e-06\n",
            "Epoch 26/30\n",
            "540/540 [==============================] - 4s 8ms/step - loss: 0.4426 - accuracy: 0.7978 - val_loss: 0.4707 - val_accuracy: 0.7750 - lr: 7.1790e-06\n",
            "Epoch 27/30\n",
            "540/540 [==============================] - 3s 6ms/step - loss: 0.4398 - accuracy: 0.7982 - val_loss: 0.4705 - val_accuracy: 0.7740 - lr: 6.4611e-06\n",
            "Epoch 28/30\n",
            "540/540 [==============================] - 3s 6ms/step - loss: 0.4393 - accuracy: 0.7989 - val_loss: 0.4713 - val_accuracy: 0.7740 - lr: 5.8150e-06\n",
            "Epoch 29/30\n",
            "540/540 [==============================] - 3s 6ms/step - loss: 0.4394 - accuracy: 0.7994 - val_loss: 0.4711 - val_accuracy: 0.7734 - lr: 5.2335e-06\n",
            "Epoch 30/30\n",
            "540/540 [==============================] - 5s 8ms/step - loss: 0.4396 - accuracy: 0.7978 - val_loss: 0.4710 - val_accuracy: 0.7740 - lr: 4.7101e-06\n"
          ]
        },
        {
          "output_type": "execute_result",
          "data": {
            "text/plain": [
              "<keras.src.callbacks.History at 0x7d5fb7271450>"
            ]
          },
          "metadata": {},
          "execution_count": 21
        }
      ],
      "source": [
        "# Sentiment Prediction with RNN Neural Network and Confusion Matrix\n",
        "\n",
        "from keras.models import Sequential\n",
        "from keras.layers import Dense, SimpleRNN, Reshape, Dropout\n",
        "from keras.optimizers import Adam\n",
        "from keras.callbacks import LearningRateScheduler\n",
        "from sklearn.metrics import confusion_matrix\n",
        "import seaborn as sns\n",
        "import matplotlib.pyplot as plt\n",
        "import numpy as np\n",
        "\n",
        "# Build a neural network model with RNN\n",
        "model = Sequential()\n",
        "model.add(Dense(256, input_shape=(1024,), activation='tanh'))\n",
        "model.add(Reshape((1, 256)))\n",
        "model.add(SimpleRNN(128, activation='relu'))\n",
        "model.add(Dense(64, activation='relu'))\n",
        "model.add(Dropout(0.5))  # Adding dropout for regularization\n",
        "model.add(Dense(2, activation='softmax'))\n",
        "\n",
        "# Use a learning rate scheduler\n",
        "def lr_schedule(epoch):\n",
        "    return 0.0001 * 0.9 ** epoch\n",
        "\n",
        "opt = Adam(learning_rate=0.0001)\n",
        "lr_scheduler = LearningRateScheduler(lr_schedule)\n",
        "#\n",
        "# Compile the model\n",
        "model.compile(optimizer=opt, loss='sparse_categorical_crossentropy', metrics=['accuracy'])\n",
        "\n",
        "\n",
        "# Print model summary to check the architecture\n",
        "model.summary()\n",
        "\n",
        "# Train the model with the learning rate scheduler\n",
        "model.fit(X_train_embeddings, y_train, epochs=30, batch_size=32, validation_split=0.1, callbacks=[lr_scheduler])"
      ]
    },
    {
      "cell_type": "markdown",
      "metadata": {
        "id": "32_oRAmBejuj"
      },
      "source": [
        "In this architecture, we employ a feedforward neural network with three dense layers, culminating in a softmax activation layer for sentiment classification."
      ]
    },
    {
      "cell_type": "markdown",
      "metadata": {
        "id": "WLFMDGLqfugC"
      },
      "source": [
        "## Step 11: Evaluate the Model\n",
        "Finally, let's evaluate the model's performance on the validation set and calculate the accuracy:"
      ]
    },
    {
      "cell_type": "code",
      "execution_count": 22,
      "metadata": {
        "colab": {
          "base_uri": "https://localhost:8080/"
        },
        "id": "Kx4_t2UjgALF",
        "outputId": "f1c5c90d-fddd-4040-bb74-6eda456a4ea6"
      },
      "outputs": [
        {
          "output_type": "stream",
          "name": "stdout",
          "text": [
            "150/150 [==============================] - 0s 3ms/step - loss: 0.4755 - accuracy: 0.7740\n",
            "Accuracy: 77.40%\n",
            "150/150 [==============================] - 0s 2ms/step\n",
            "Label 0: Precision = 0.77, Recall = 0.79\n",
            "Label 1: Precision = 0.78, Recall = 0.76\n",
            "\n",
            "Classification Report:\n",
            "              precision    recall  f1-score   support\n",
            "\n",
            "           0       0.77      0.79      0.78      2399\n",
            "           1       0.78      0.76      0.77      2401\n",
            "\n",
            "    accuracy                           0.77      4800\n",
            "   macro avg       0.77      0.77      0.77      4800\n",
            "weighted avg       0.77      0.77      0.77      4800\n",
            "\n"
          ]
        }
      ],
      "source": [
        "from sklearn.metrics import accuracy_score, precision_score, recall_score, classification_report\n",
        "\n",
        "# Evaluate the model on the test set\n",
        "accuracy = model.evaluate(X_test_embeddings, y_test)[1]\n",
        "print(f\"Accuracy: {accuracy * 100:.2f}%\")\n",
        "\n",
        "# Predictions on the test set\n",
        "y_pred_probabilities = model.predict(X_test_embeddings)\n",
        "y_pred = np.argmax(y_pred_probabilities, axis=1)\n",
        "\n",
        "# Calculate precision and recall per label\n",
        "precision_per_label = precision_score(y_test, y_pred, average=None)\n",
        "recall_per_label = recall_score(y_test, y_pred, average=None)\n",
        "\n",
        "# Display precision and recall per label\n",
        "for label, precision, recall in zip(range(len(precision_per_label)), precision_per_label, recall_per_label):\n",
        "    print(f\"Label {label}: Precision = {precision:.2f}, Recall = {recall:.2f}\")\n",
        "\n",
        "# Classification report\n",
        "print(\"\\nClassification Report:\")\n",
        "print(classification_report(y_test, y_pred))"
      ]
    },
    {
      "cell_type": "markdown",
      "metadata": {
        "id": "xTwXSCUVfvVx"
      },
      "source": [
        "This step provides insights into how well the model generalizes to new, unseen data."
      ]
    },
    {
      "cell_type": "markdown",
      "metadata": {
        "id": "E6mdIbjPgsne"
      },
      "source": [
        "## Step 12:Evaluate with Confusion Matrix\n",
        "\n",
        "This matrix provides detailed insights into the model's predictions, showcasing true positives, true negatives, false positives, and false negatives."
      ]
    },
    {
      "cell_type": "code",
      "execution_count": 23,
      "metadata": {
        "colab": {
          "base_uri": "https://localhost:8080/",
          "height": 564
        },
        "id": "kPY816C7gEOw",
        "outputId": "99cd0f52-00ab-45d6-99b2-58f0e0bfd2a8"
      },
      "outputs": [
        {
          "output_type": "display_data",
          "data": {
            "text/plain": [
              "<Figure size 800x600 with 2 Axes>"
            ],
            "image/png": "[encoded data removed]"
          },
          "metadata": {}
        }
      ],
      "source": [
        "cm = confusion_matrix(y_test, y_pred)\n",
        "\n",
        "# Normalize the confusion matrix\n",
        "cm_normalized = cm.astype('float') / cm.sum(axis=1)[:, np.newaxis]\n",
        "\n",
        "# Plot the normalized confusion matrix\n",
        "plt.figure(figsize=(8, 6))\n",
        "sns.heatmap(cm_normalized, annot=True, cmap='Blues', xticklabels=['Neutral', 'Positive', 'Negative'], yticklabels=['Neutral', 'Positive', 'Negative'])\n",
        "plt.title('Normalized Confusion Matrix')\n",
        "plt.xlabel('Predicted Label')\n",
        "plt.ylabel('True Label')\n",
        "plt.show()"
      ]
    },
    {
      "cell_type": "markdown",
      "metadata": {
        "id": "1B1ZP8EizqxU"
      },
      "source": [
        "## Step 13:Sentiment Prediction for User Input in Different Languages"
      ]
    },
    {
      "cell_type": "code",
      "execution_count": 24,
      "metadata": {
        "colab": {
          "base_uri": "https://localhost:8080/"
        },
        "id": "H2kJx0vKzp81",
        "outputId": "bd2e6534-2d17-4f7a-c59e-62154bb972e3"
      },
      "outputs": [
        {
          "output_type": "stream",
          "name": "stdout",
          "text": [
            "Enter the language: english\n",
            "Enter a text: hello how are you\n",
            "1/1 [==============================] - 0s 147ms/step\n",
            "Predicted Sentiment: positive\n"
          ]
        }
      ],
      "source": [
        "language = input(\"Enter the language: \")\n",
        "encoder = LaserEncoderPipeline(lang=language)\n",
        "\n",
        "\n",
        "# Now, you can use the trained model to predict the sentiment of user input\n",
        "user_text = input(\"Enter a text: \")\n",
        "user_text_embedding = encoder.encode_sentences([user_text])[0]\n",
        "user_text_embedding = np.reshape(user_text_embedding, (1, -1))\n",
        "\n",
        "predicted_sentiment = np.argmax(model.predict(user_text_embedding))\n",
        "predicted_sentiment_no = label_encoder.inverse_transform([predicted_sentiment])[0]\n",
        "if predicted_sentiment_no == 0:\n",
        "  predicted_sentiment_label = 'negative'\n",
        "elif predicted_sentiment_no == 1:\n",
        "  predicted_sentiment_label = 'positive'\n",
        "\n",
        "print(f\"Predicted Sentiment: {predicted_sentiment_label}\")"
      ]
    },
    {
      "cell_type": "markdown",
      "metadata": {
        "id": "SOxFqEdwcejj"
      },
      "source": [
        "## Step 14:Sentiment Prediction for Multilingual Texts\n",
        "\n",
        "This step involves iterating through a collection of sentiments expressed in various languages, including English, Hindi, Portuguese, Romanian, Slovenian, Chinese, French, Dutch, Russian, Italian, and Bosnian.\n",
        "\n",
        "This process demonstrates the model's ability to analyze sentiments across diverse linguistic contexts and still yeild same output."
      ]
    },
    {
      "cell_type": "code",
      "execution_count": 25,
      "metadata": {
        "colab": {
          "base_uri": "https://localhost:8080/"
        },
        "id": "vjFvWEC0UOj0",
        "outputId": "df2356ca-9fc7-46a2-ad85-9dde8f5d7f2b"
      },
      "outputs": [
        {
          "output_type": "stream",
          "name": "stdout",
          "text": [
            "English: Said something harsh and didn't even realize it's harsh until I said it.. Sorry\n",
            "1/1 [==============================] - 0s 19ms/step\n",
            "Predicted Sentiment: negative\n",
            "Hindi: कुछ कड़ाई बातें कहीं और मैंने यह तक महसूस नहीं किया कि यह कड़ाई है जब तक मैंने यह कहा.. माफ़ करें\n"
          ]
        },
        {
          "output_type": "stream",
          "name": "stderr",
          "text": [
            "100%|██████████| 608M/608M [00:12<00:00, 48.9MB/s]\n"
          ]
        },
        {
          "output_type": "stream",
          "name": "stdout",
          "text": [
            "1/1 [==============================] - 0s 32ms/step\n"
          ]
        },
        {
          "output_type": "stream",
          "name": "stderr",
          "text": [
            "/usr/local/lib/python3.10/dist-packages/fairseq/models/transformer/transformer_encoder.py:281: UserWarning: The PyTorch API of nested tensors is in prototype stage and will change in the near future. (Triggered internally at ../aten/src/ATen/NestedTensorImpl.cpp:178.)\n",
            "  x = torch._nested_tensor_from_mask(\n"
          ]
        },
        {
          "output_type": "stream",
          "name": "stdout",
          "text": [
            "Predicted Sentiment: negative\n",
            "Portuguese: Disse algo duro e nem percebi que era duro até dizer.. Desculpe\n",
            "1/1 [==============================] - 0s 30ms/step\n",
            "Predicted Sentiment: negative\n",
            "Romanian: Am spus ceva dur și nici măcar nu mi-am dat seama că e dur până când am spus asta.. Scuze\n",
            "1/1 [==============================] - 0s 22ms/step\n",
            "Predicted Sentiment: negative\n",
            "Slovenian: Rekel sem nekaj ostrega in sploh nisem ugotovil, da je ostro, dokler nisem rekel.. Oprosti\n",
            "1/1 [==============================] - 0s 20ms/step\n",
            "Predicted Sentiment: negative\n",
            "Chinese: 说了一些刻薄的话，甚至直到我说出来我才意识到它很刻薄.. 抱歉\n",
            "1/1 [==============================] - 0s 26ms/step\n",
            "Predicted Sentiment: negative\n",
            "French: Ai dit quelque chose de dur et je n'ai même pas réalisé que c'était dur jusqu'à ce que je le dise.. Désolé\n",
            "1/1 [==============================] - 0s 21ms/step\n",
            "Predicted Sentiment: negative\n",
            "Dutch: Iets hards gezegd en realiseerde me niet eens dat het hard was tot ik het zei.. Sorry\n",
            "1/1 [==============================] - 0s 18ms/step\n",
            "Predicted Sentiment: negative\n",
            "Russian: Сказал что-то резкое и даже не осознал, насколько это резкое, пока не сказал.. Извините\n",
            "1/1 [==============================] - 0s 19ms/step\n",
            "Predicted Sentiment: negative\n",
            "Italian: Ho detto qualcosa di duro e non me ne sono nemmeno reso conto finché non l'ho detto.. Scusa\n",
            "1/1 [==============================] - 0s 27ms/step\n",
            "Predicted Sentiment: negative\n",
            "Bosnian: Rekao nešto oštro i čak nisam shvatio da je oštro dok nisam rekao.. Žao mi je\n",
            "1/1 [==============================] - 0s 19ms/step\n",
            "Predicted Sentiment: negative\n"
          ]
        }
      ],
      "source": [
        "sentiments = {\n",
        "    \"english\": \"Said something harsh and didn't even realize it's harsh until I said it.. Sorry\",\n",
        "    'hindi': \"कुछ कड़ाई बातें कहीं और मैंने यह तक महसूस नहीं किया कि यह कड़ाई है जब तक मैंने यह कहा.. माफ़ करें\",\n",
        "    'portuguese': \"Disse algo duro e nem percebi que era duro até dizer.. Desculpe\",\n",
        "    'romanian': \"Am spus ceva dur și nici măcar nu mi-am dat seama că e dur până când am spus asta.. Scuze\",\n",
        "    'slovenian': \"Rekel sem nekaj ostrega in sploh nisem ugotovil, da je ostro, dokler nisem rekel.. Oprosti\",\n",
        "    'chinese': \"说了一些刻薄的话，甚至直到我说出来我才意识到它很刻薄.. 抱歉\",\n",
        "    'french': \"Ai dit quelque chose de dur et je n'ai même pas réalisé que c'était dur jusqu'à ce que je le dise.. Désolé\",\n",
        "    'dutch': \"Iets hards gezegd en realiseerde me niet eens dat het hard was tot ik het zei.. Sorry\",\n",
        "    'russian': \"Сказал что-то резкое и даже не осознал, насколько это резкое, пока не сказал.. Извините\",\n",
        "    'italian': \"Ho detto qualcosa di duro e non me ne sono nemmeno reso conto finché non l'ho detto.. Scusa\",\n",
        "    'bosnian': \"Rekao nešto oštro i čak nisam shvatio da je oštro dok nisam rekao.. Žao mi je\"\n",
        "}\n",
        "\n",
        "# Iterate through the dictionary and extract values\n",
        "for language, sentiment in sentiments.items():\n",
        "  print(f\"{language.capitalize()}: {sentiment}\")\n",
        "  encoder = LaserEncoderPipeline(lang=language)\n",
        "  # Now, you can use the trained model to predict the sentiment of user input\n",
        "  user_text = sentiment\n",
        "  user_text_embedding = encoder.encode_sentences([user_text])[0]\n",
        "  user_text_embedding = np.reshape(user_text_embedding, (1, -1))\n",
        "\n",
        "  predicted_sentiment = np.argmax(model.predict(user_text_embedding))\n",
        "  predicted_sentiment_no = label_encoder.inverse_transform([predicted_sentiment])[0]\n",
        "  if predicted_sentiment_no == 0:\n",
        "    predicted_sentiment_label = 'negative'\n",
        "  elif predicted_sentiment_no == 1:\n",
        "    predicted_sentiment_label = 'positive'\n",
        "\n",
        "  print(f\"Predicted Sentiment: {predicted_sentiment_label}\")"
      ]
    },
    {
      "cell_type": "markdown",
      "metadata": {
        "id": "D76SEjLm0ZOR"
      },
      "source": [
        "Congratulations! You have completed the sentiment analysis tutorial using LASER embeddings and an RNN. Feel free to experiment with different architectures, hyperparameters, or datasets to further improve the model."
      ]
    }
  ],
  "metadata": {
    "accelerator": "GPU",
    "colab": {
      "provenance": []
    },
    "kernelspec": {
      "display_name": "Python 3",
      "name": "python3"
    },
    "language_info": {
      "name": "python"
    }
  },
  "nbformat": 4,
  "nbformat_minor": 0
}