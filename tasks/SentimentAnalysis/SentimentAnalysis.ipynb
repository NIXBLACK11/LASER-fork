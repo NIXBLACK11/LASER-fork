{
  "cells": [
    {
      "cell_type": "markdown",
      "metadata": {
        "id": "OUrFprmDa40H"
      },
      "source": [
        "# Tutorial: Sentiment Analysis with LASER Embeddings and RNN\n",
        "\n",
        "In this tutorial, we will guide you through the process of installing the necessary libraries, downloading a sentiment analysis dataset, and building a sentiment analysis model using [LASER](https://github.com/facebookresearch/LASER) embeddings and a Recurrent Neural Network (RNN).\n",
        "\n"
      ]
    },
    {
      "cell_type": "markdown",
      "metadata": {
        "id": "hJETScFpJkyu"
      },
      "source": [
        "## Step 1: Installing Laser Encoder\n",
        "\n",
        "To begin, let's install the laser_encoders library along with its dependencies. These include sacremoses, sentencepiece, and fairseq. You can achieve this by running the following command:"
      ]
    },
    {
      "cell_type": "code",
      "execution_count": 1,
      "metadata": {
        "colab": {
          "base_uri": "https://localhost:8080/"
        },
        "id": "KZ_Eqn90J6CK",
        "outputId": "c2158628-9f55-498f-b1db-056e3dae4060"
      },
      "outputs": [
        {
          "name": "stdout",
          "output_type": "stream",
          "text": [
            "Collecting laser_encoders\n",
            "  Downloading laser_encoders-0.0.1-py3-none-any.whl (24 kB)\n",
            "Collecting sacremoses==0.1.0 (from laser_encoders)\n",
            "  Downloading sacremoses-0.1.0-py3-none-any.whl (895 kB)\n",
            "\u001b[2K     \u001b[90m━━━━━━━━━━━━━━━━━━━━━━━━━━━━━━━━━━━━━━━━\u001b[0m \u001b[32m895.1/895.1 kB\u001b[0m \u001b[31m8.7 MB/s\u001b[0m eta \u001b[36m0:00:00\u001b[0m\n",
            "\u001b[?25hCollecting unicategories>=0.1.2 (from laser_encoders)\n",
            "  Downloading unicategories-0.1.2.tar.gz (12 kB)\n",
            "  Preparing metadata (setup.py) ... \u001b[?25l\u001b[?25hdone\n",
            "Collecting sentencepiece>=0.1.99 (from laser_encoders)\n",
            "  Downloading sentencepiece-0.1.99-cp310-cp310-manylinux_2_17_x86_64.manylinux2014_x86_64.whl (1.3 MB)\n",
            "\u001b[2K     \u001b[90m━━━━━━━━━━━━━━━━━━━━━━━━━━━━━━━━━━━━━━━━\u001b[0m \u001b[32m1.3/1.3 MB\u001b[0m \u001b[31m14.8 MB/s\u001b[0m eta \u001b[36m0:00:00\u001b[0m\n",
            "\u001b[?25hRequirement already satisfied: numpy>=1.21.3 in /usr/local/lib/python3.10/dist-packages (from laser_encoders) (1.23.5)\n",
            "Requirement already satisfied: torch>=1.10.0 in /usr/local/lib/python3.10/dist-packages (from laser_encoders) (2.1.0+cu118)\n",
            "Collecting fairseq>=0.12.2 (from laser_encoders)\n",
            "  Downloading fairseq-0.12.2.tar.gz (9.6 MB)\n",
            "\u001b[2K     \u001b[90m━━━━━━━━━━━━━━━━━━━━━━━━━━━━━━━━━━━━━━━━\u001b[0m \u001b[32m9.6/9.6 MB\u001b[0m \u001b[31m33.2 MB/s\u001b[0m eta \u001b[36m0:00:00\u001b[0m\n",
            "\u001b[?25h  Installing build dependencies ... \u001b[?25l\u001b[?25hdone\n",
            "  Getting requirements to build wheel ... \u001b[?25l\u001b[?25hdone\n",
            "  Installing backend dependencies ... \u001b[?25l\u001b[?25hdone\n",
            "  Preparing metadata (pyproject.toml) ... \u001b[?25l\u001b[?25hdone\n",
            "Requirement already satisfied: regex in /usr/local/lib/python3.10/dist-packages (from sacremoses==0.1.0->laser_encoders) (2023.6.3)\n",
            "Requirement already satisfied: click in /usr/local/lib/python3.10/dist-packages (from sacremoses==0.1.0->laser_encoders) (8.1.7)\n",
            "Requirement already satisfied: joblib in /usr/local/lib/python3.10/dist-packages (from sacremoses==0.1.0->laser_encoders) (1.3.2)\n",
            "Requirement already satisfied: tqdm in /usr/local/lib/python3.10/dist-packages (from sacremoses==0.1.0->laser_encoders) (4.66.1)\n",
            "Requirement already satisfied: cffi in /usr/local/lib/python3.10/dist-packages (from fairseq>=0.12.2->laser_encoders) (1.16.0)\n",
            "Requirement already satisfied: cython in /usr/local/lib/python3.10/dist-packages (from fairseq>=0.12.2->laser_encoders) (3.0.6)\n",
            "Collecting hydra-core<1.1,>=1.0.7 (from fairseq>=0.12.2->laser_encoders)\n",
            "  Downloading hydra_core-1.0.7-py3-none-any.whl (123 kB)\n",
            "\u001b[2K     \u001b[90m━━━━━━━━━━━━━━━━━━━━━━━━━━━━━━━━━━━━━━━━\u001b[0m \u001b[32m123.8/123.8 kB\u001b[0m \u001b[31m15.7 MB/s\u001b[0m eta \u001b[36m0:00:00\u001b[0m\n",
            "\u001b[?25hCollecting omegaconf<2.1 (from fairseq>=0.12.2->laser_encoders)\n",
            "  Downloading omegaconf-2.0.6-py3-none-any.whl (36 kB)\n",
            "Collecting sacrebleu>=1.4.12 (from fairseq>=0.12.2->laser_encoders)\n",
            "  Downloading sacrebleu-2.3.3-py3-none-any.whl (106 kB)\n",
            "\u001b[2K     \u001b[90m━━━━━━━━━━━━━━━━━━━━━━━━━━━━━━━━━━━━━━━━\u001b[0m \u001b[32m106.4/106.4 kB\u001b[0m \u001b[31m13.8 MB/s\u001b[0m eta \u001b[36m0:00:00\u001b[0m\n",
            "\u001b[?25hCollecting bitarray (from fairseq>=0.12.2->laser_encoders)\n",
            "  Downloading bitarray-2.8.4-cp310-cp310-manylinux_2_17_x86_64.manylinux2014_x86_64.whl (279 kB)\n",
            "\u001b[2K     \u001b[90m━━━━━━━━━━━━━━━━━━━━━━━━━━━━━━━━━━━━━━━━\u001b[0m \u001b[32m279.9/279.9 kB\u001b[0m \u001b[31m31.7 MB/s\u001b[0m eta \u001b[36m0:00:00\u001b[0m\n",
            "\u001b[?25hRequirement already satisfied: torchaudio>=0.8.0 in /usr/local/lib/python3.10/dist-packages (from fairseq>=0.12.2->laser_encoders) (2.1.0+cu118)\n",
            "Requirement already satisfied: filelock in /usr/local/lib/python3.10/dist-packages (from torch>=1.10.0->laser_encoders) (3.13.1)\n",
            "Requirement already satisfied: typing-extensions in /usr/local/lib/python3.10/dist-packages (from torch>=1.10.0->laser_encoders) (4.5.0)\n",
            "Requirement already satisfied: sympy in /usr/local/lib/python3.10/dist-packages (from torch>=1.10.0->laser_encoders) (1.12)\n",
            "Requirement already satisfied: networkx in /usr/local/lib/python3.10/dist-packages (from torch>=1.10.0->laser_encoders) (3.2.1)\n",
            "Requirement already satisfied: jinja2 in /usr/local/lib/python3.10/dist-packages (from torch>=1.10.0->laser_encoders) (3.1.2)\n",
            "Requirement already satisfied: fsspec in /usr/local/lib/python3.10/dist-packages (from torch>=1.10.0->laser_encoders) (2023.6.0)\n",
            "Requirement already satisfied: triton==2.1.0 in /usr/local/lib/python3.10/dist-packages (from torch>=1.10.0->laser_encoders) (2.1.0)\n",
            "Requirement already satisfied: appdirs in /usr/local/lib/python3.10/dist-packages (from unicategories>=0.1.2->laser_encoders) (1.4.4)\n",
            "Collecting antlr4-python3-runtime==4.8 (from hydra-core<1.1,>=1.0.7->fairseq>=0.12.2->laser_encoders)\n",
            "  Downloading antlr4-python3-runtime-4.8.tar.gz (112 kB)\n",
            "\u001b[2K     \u001b[90m━━━━━━━━━━━━━━━━━━━━━━━━━━━━━━━━━━━━━━━━\u001b[0m \u001b[32m112.4/112.4 kB\u001b[0m \u001b[31m15.8 MB/s\u001b[0m eta \u001b[36m0:00:00\u001b[0m\n",
            "\u001b[?25h  Preparing metadata (setup.py) ... \u001b[?25l\u001b[?25hdone\n",
            "Requirement already satisfied: PyYAML>=5.1.* in /usr/local/lib/python3.10/dist-packages (from omegaconf<2.1->fairseq>=0.12.2->laser_encoders) (6.0.1)\n",
            "Collecting portalocker (from sacrebleu>=1.4.12->fairseq>=0.12.2->laser_encoders)\n",
            "  Downloading portalocker-2.8.2-py3-none-any.whl (17 kB)\n",
            "Requirement already satisfied: tabulate>=0.8.9 in /usr/local/lib/python3.10/dist-packages (from sacrebleu>=1.4.12->fairseq>=0.12.2->laser_encoders) (0.9.0)\n",
            "Collecting colorama (from sacrebleu>=1.4.12->fairseq>=0.12.2->laser_encoders)\n",
            "  Downloading colorama-0.4.6-py2.py3-none-any.whl (25 kB)\n",
            "Requirement already satisfied: lxml in /usr/local/lib/python3.10/dist-packages (from sacrebleu>=1.4.12->fairseq>=0.12.2->laser_encoders) (4.9.3)\n",
            "Requirement already satisfied: pycparser in /usr/local/lib/python3.10/dist-packages (from cffi->fairseq>=0.12.2->laser_encoders) (2.21)\n",
            "Requirement already satisfied: MarkupSafe>=2.0 in /usr/local/lib/python3.10/dist-packages (from jinja2->torch>=1.10.0->laser_encoders) (2.1.3)\n",
            "Requirement already satisfied: mpmath>=0.19 in /usr/local/lib/python3.10/dist-packages (from sympy->torch>=1.10.0->laser_encoders) (1.3.0)\n",
            "Building wheels for collected packages: fairseq, unicategories, antlr4-python3-runtime\n",
            "  Building wheel for fairseq (pyproject.toml) ... \u001b[?25l\u001b[?25hdone\n",
            "  Created wheel for fairseq: filename=fairseq-0.12.2-cp310-cp310-linux_x86_64.whl size=11291815 sha256=092e1e5ec23b37820b79bf3973427321f45c0d67cde6929b8b2ff4637e6c4c8f\n",
            "  Stored in directory: /root/.cache/pip/wheels/e4/35/55/9c66f65ec7c83fd6fbc2b9502a0ac81b2448a1196159dacc32\n",
            "  Building wheel for unicategories (setup.py) ... \u001b[?25l\u001b[?25hdone\n",
            "  Created wheel for unicategories: filename=unicategories-0.1.2-py2.py3-none-any.whl size=30843 sha256=d27712712d41563c38e4d68999fbd6b956ab7accd02be31223d27ec97d926737\n",
            "  Stored in directory: /root/.cache/pip/wheels/0b/6d/14/7135674b9daa3996f7f0d9bc1ccff5b7d50d6f1c4a16dc7d90\n",
            "  Building wheel for antlr4-python3-runtime (setup.py) ... \u001b[?25l\u001b[?25hdone\n",
            "  Created wheel for antlr4-python3-runtime: filename=antlr4_python3_runtime-4.8-py3-none-any.whl size=141210 sha256=8ba51067fdcaa054beb6706bb371b120fe3774519680d2452a6a6509236a31c0\n",
            "  Stored in directory: /root/.cache/pip/wheels/a7/20/bd/e1477d664f22d99989fd28ee1a43d6633dddb5cb9e801350d5\n",
            "Successfully built fairseq unicategories antlr4-python3-runtime\n",
            "Installing collected packages: sentencepiece, bitarray, antlr4-python3-runtime, unicategories, sacremoses, portalocker, omegaconf, colorama, sacrebleu, hydra-core, fairseq, laser_encoders\n",
            "Successfully installed antlr4-python3-runtime-4.8 bitarray-2.8.4 colorama-0.4.6 fairseq-0.12.2 hydra-core-1.0.7 laser_encoders-0.0.1 omegaconf-2.0.6 portalocker-2.8.2 sacrebleu-2.3.3 sacremoses-0.1.0 sentencepiece-0.1.99 unicategories-0.1.2\n"
          ]
        }
      ],
      "source": [
        "! pip install laser_encoders"
      ]
    },
    {
      "cell_type": "markdown",
      "metadata": {
        "id": "F-BHLZZTbq5_"
      },
      "source": [
        "This ensures that you have all the required packages for this tutorial."
      ]
    },
    {
      "cell_type": "markdown",
      "metadata": {
        "id": "4qYPrbjXcNjK"
      },
      "source": [
        "## Step 2: Install Additional Libraries\n",
        "\n",
        "Before we proceed, let's install the chardet library, which is handy for detecting the encoding of the dataset."
      ]
    },
    {
      "cell_type": "code",
      "execution_count": 2,
      "metadata": {
        "colab": {
          "base_uri": "https://localhost:8080/"
        },
        "id": "bxnIqaniSXbG",
        "outputId": "3fdfbff9-303d-4556-e9b2-084dc43437d5"
      },
      "outputs": [
        {
          "name": "stdout",
          "output_type": "stream",
          "text": [
            "Requirement already satisfied: chardet in /usr/local/lib/python3.10/dist-packages (5.2.0)\n",
            "Collecting datasets\n",
            "  Downloading datasets-2.15.0-py3-none-any.whl (521 kB)\n",
            "\u001b[2K     \u001b[90m━━━━━━━━━━━━━━━━━━━━━━━━━━━━━━━━━━━━━━━━\u001b[0m \u001b[32m521.2/521.2 kB\u001b[0m \u001b[31m6.9 MB/s\u001b[0m eta \u001b[36m0:00:00\u001b[0m\n",
            "\u001b[?25hRequirement already satisfied: numpy>=1.17 in /usr/local/lib/python3.10/dist-packages (from datasets) (1.23.5)\n",
            "Requirement already satisfied: pyarrow>=8.0.0 in /usr/local/lib/python3.10/dist-packages (from datasets) (9.0.0)\n",
            "Collecting pyarrow-hotfix (from datasets)\n",
            "  Downloading pyarrow_hotfix-0.6-py3-none-any.whl (7.9 kB)\n",
            "Collecting dill<0.3.8,>=0.3.0 (from datasets)\n",
            "  Downloading dill-0.3.7-py3-none-any.whl (115 kB)\n",
            "\u001b[2K     \u001b[90m━━━━━━━━━━━━━━━━━━━━━━━━━━━━━━━━━━━━━━━━\u001b[0m \u001b[32m115.3/115.3 kB\u001b[0m \u001b[31m7.3 MB/s\u001b[0m eta \u001b[36m0:00:00\u001b[0m\n",
            "\u001b[?25hRequirement already satisfied: pandas in /usr/local/lib/python3.10/dist-packages (from datasets) (1.5.3)\n",
            "Requirement already satisfied: requests>=2.19.0 in /usr/local/lib/python3.10/dist-packages (from datasets) (2.31.0)\n",
            "Requirement already satisfied: tqdm>=4.62.1 in /usr/local/lib/python3.10/dist-packages (from datasets) (4.66.1)\n",
            "Requirement already satisfied: xxhash in /usr/local/lib/python3.10/dist-packages (from datasets) (3.4.1)\n",
            "Collecting multiprocess (from datasets)\n",
            "  Downloading multiprocess-0.70.15-py310-none-any.whl (134 kB)\n",
            "\u001b[2K     \u001b[90m━━━━━━━━━━━━━━━━━━━━━━━━━━━━━━━━━━━━━━━━\u001b[0m \u001b[32m134.8/134.8 kB\u001b[0m \u001b[31m9.3 MB/s\u001b[0m eta \u001b[36m0:00:00\u001b[0m\n",
            "\u001b[?25hRequirement already satisfied: fsspec[http]<=2023.10.0,>=2023.1.0 in /usr/local/lib/python3.10/dist-packages (from datasets) (2023.6.0)\n",
            "Requirement already satisfied: aiohttp in /usr/local/lib/python3.10/dist-packages (from datasets) (3.9.1)\n",
            "Requirement already satisfied: huggingface-hub>=0.18.0 in /usr/local/lib/python3.10/dist-packages (from datasets) (0.19.4)\n",
            "Requirement already satisfied: packaging in /usr/local/lib/python3.10/dist-packages (from datasets) (23.2)\n",
            "Requirement already satisfied: pyyaml>=5.1 in /usr/local/lib/python3.10/dist-packages (from datasets) (6.0.1)\n",
            "Requirement already satisfied: attrs>=17.3.0 in /usr/local/lib/python3.10/dist-packages (from aiohttp->datasets) (23.1.0)\n",
            "Requirement already satisfied: multidict<7.0,>=4.5 in /usr/local/lib/python3.10/dist-packages (from aiohttp->datasets) (6.0.4)\n",
            "Requirement already satisfied: yarl<2.0,>=1.0 in /usr/local/lib/python3.10/dist-packages (from aiohttp->datasets) (1.9.3)\n",
            "Requirement already satisfied: frozenlist>=1.1.1 in /usr/local/lib/python3.10/dist-packages (from aiohttp->datasets) (1.4.0)\n",
            "Requirement already satisfied: aiosignal>=1.1.2 in /usr/local/lib/python3.10/dist-packages (from aiohttp->datasets) (1.3.1)\n",
            "Requirement already satisfied: async-timeout<5.0,>=4.0 in /usr/local/lib/python3.10/dist-packages (from aiohttp->datasets) (4.0.3)\n",
            "Requirement already satisfied: filelock in /usr/local/lib/python3.10/dist-packages (from huggingface-hub>=0.18.0->datasets) (3.13.1)\n",
            "Requirement already satisfied: typing-extensions>=3.7.4.3 in /usr/local/lib/python3.10/dist-packages (from huggingface-hub>=0.18.0->datasets) (4.5.0)\n",
            "Requirement already satisfied: charset-normalizer<4,>=2 in /usr/local/lib/python3.10/dist-packages (from requests>=2.19.0->datasets) (3.3.2)\n",
            "Requirement already satisfied: idna<4,>=2.5 in /usr/local/lib/python3.10/dist-packages (from requests>=2.19.0->datasets) (3.6)\n",
            "Requirement already satisfied: urllib3<3,>=1.21.1 in /usr/local/lib/python3.10/dist-packages (from requests>=2.19.0->datasets) (2.0.7)\n",
            "Requirement already satisfied: certifi>=2017.4.17 in /usr/local/lib/python3.10/dist-packages (from requests>=2.19.0->datasets) (2023.11.17)\n",
            "Requirement already satisfied: python-dateutil>=2.8.1 in /usr/local/lib/python3.10/dist-packages (from pandas->datasets) (2.8.2)\n",
            "Requirement already satisfied: pytz>=2020.1 in /usr/local/lib/python3.10/dist-packages (from pandas->datasets) (2023.3.post1)\n",
            "Requirement already satisfied: six>=1.5 in /usr/local/lib/python3.10/dist-packages (from python-dateutil>=2.8.1->pandas->datasets) (1.16.0)\n",
            "Installing collected packages: pyarrow-hotfix, dill, multiprocess, datasets\n",
            "Successfully installed datasets-2.15.0 dill-0.3.7 multiprocess-0.70.15 pyarrow-hotfix-0.6\n"
          ]
        }
      ],
      "source": [
        "!pip install chardet\n",
        "!pip install datasets"
      ]
    },
    {
      "cell_type": "markdown",
      "metadata": {
        "id": "rgBj7FdeVIZn"
      },
      "source": [
        "## Step 3: Import Necessary Libraries\n",
        "\n",
        "Now, let's import the libraries required for data manipulation, encoding, and model building."
      ]
    },
    {
      "cell_type": "code",
      "execution_count": 62,
      "metadata": {
        "id": "LN0F4-9AR8_k"
      },
      "outputs": [],
      "source": [
        "import numpy as np\n",
        "import pandas as pd\n",
        "import chardet\n",
        "import matplotlib.pyplot as plt\n",
        "from laser_encoders import LaserEncoderPipeline\n",
        "from sklearn.model_selection import train_test_split\n",
        "from sklearn.metrics import accuracy_score\n",
        "from sklearn.linear_model import LogisticRegression\n",
        "from sklearn.preprocessing import LabelEncoder\n",
        "from tensorflow.keras.models import Sequential\n",
        "from tensorflow.keras.layers import Dense\n",
        "from tqdm import tqdm\n",
        "from datasets import load_dataset"
      ]
    },
    {
      "cell_type": "markdown",
      "metadata": {
        "id": "HI_joOxsc-l7"
      },
      "source": [
        "These libraries will be crucial for various stages of the tutorial."
      ]
    },
    {
      "cell_type": "markdown",
      "metadata": {
        "id": "RPQyhOAyVM-X"
      },
      "source": [
        "## Step 4: Load the Dataset\n",
        "\n",
        "\n",
        "The provided code loads a Twitter sentiment analysis dataset named \"carblacac/twitter-sentiment-analysis\" using the Hugging Face datasets library.\n",
        "You can explore the dataset at [Twitter sentiment analysis](https://huggingface.co/datasets/carblacac/twitter-sentiment-analysis)."
      ]
    },
    {
      "cell_type": "code",
      "execution_count": 63,
      "metadata": {
        "id": "K0CKtslqNlQg"
      },
      "outputs": [],
      "source": [
        "dataset_name = \"carblacac/twitter-sentiment-analysis\"\n",
        "\n",
        "# Load the dataset using the dataset name\n",
        "custom_dataset = load_dataset(dataset_name)\n",
        "\n",
        "# Convert the dataset to a Pandas DataFrame\n",
        "custom_dataframe = pd.DataFrame(custom_dataset['train'])"
      ]
    },
    {
      "cell_type": "markdown",
      "metadata": {
        "id": "-nTtk4wSdPYV"
      },
      "source": [
        "## Step 5: Data Processing\n",
        "\n",
        "Before diving into model training, let's shuffle the dataset for better generalization:"
      ]
    },
    {
      "cell_type": "code",
      "execution_count": 25,
      "metadata": {
        "colab": {
          "base_uri": "https://localhost:8080/"
        },
        "id": "hPqyJk2wNsye",
        "outputId": "68a2d22f-7c15-4b06-e964-63451096a985"
      },
      "outputs": [
        {
          "name": "stdout",
          "output_type": "stream",
          "text": [
            "                                                    text  label\n",
            "18093  Probably the best picture Producers Releasing ...      1\n",
            "4287   since this is part 2, then compering it to par...      0\n",
            "24727  Very good drama about a young girl who attempt...      1\n",
            "13944  For fans of 1970s Hammer type horror films, th...      1\n",
            "7415   I had heard some bad things about Cabin Fever ...      0\n",
            "(25000, 2)\n"
          ]
        }
      ],
      "source": [
        "data = data.sample(frac=1)\n",
        "print(data.head())\n",
        "print(data.shape)"
      ]
    },
    {
      "cell_type": "markdown",
      "metadata": {
        "id": "5h7xuCWBdWB8"
      },
      "source": [
        "Shuffling helps prevent any potential biases in the data.\n",
        "\n"
      ]
    },
    {
      "cell_type": "markdown",
      "metadata": {
        "id": "XcDOh4mS1JZ0"
      },
      "source": [
        "## Step 6:Visualizing Sentiment Distribution in the Dataset\n",
        "\n",
        "This step involves creating a bar plot to visualize the distribution of sentiments in the dataset."
      ]
    },
    {
      "cell_type": "code",
      "execution_count": 26,
      "metadata": {
        "colab": {
          "base_uri": "https://localhost:8080/",
          "height": 613
        },
        "id": "TLp-3OE91Dp4",
        "outputId": "0ffd52d1-785e-44d4-9956-d4780e14cd8a"
      },
      "outputs": [
        {
          "data": {
            "image/png": "[encoded data removed]",
            "text/plain": [
              "<Figure size 1000x600 with 1 Axes>"
            ]
          },
          "metadata": {},
          "output_type": "display_data"
        }
      ],
      "source": [
        "plt.figure(figsize=(10, 6))\n",
        "ax = data['label'].value_counts().plot(kind='bar', color=['red', 'blue'])\n",
        "ax.set_title('Sentiment Distribution')\n",
        "ax.set_xlabel('Sentiment')\n",
        "ax.set_ylabel('Count')\n",
        "\n",
        "labels = ['Negative', 'Positive']\n",
        "ax.set_xticks([0, 1])\n",
        "ax.set_xticklabels(labels)\n",
        "\n",
        "plt.show()"
      ]
    },
    {
      "cell_type": "markdown",
      "metadata": {
        "id": "xgpZZMfI5NWv"
      },
      "source": [
        "## Step 7: Extract Sentiments and Texts from DataFrame\n",
        "\n",
        "Now, we'll extract sentiments and texts from the DataFrame."
      ]
    },
    {
      "cell_type": "code",
      "execution_count": 27,
      "metadata": {
        "colab": {
          "base_uri": "https://localhost:8080/"
        },
        "id": "fmkM4YiSVRym",
        "outputId": "50455800-ba48-4376-8eab-5b53acf5ad65"
      },
      "outputs": [
        {
          "name": "stdout",
          "output_type": "stream",
          "text": [
            "25000\n",
            "25000\n"
          ]
        }
      ],
      "source": [
        "sentiments = []\n",
        "texts = []\n",
        "\n",
        "for index, row in data.iterrows():\n",
        "  sentiment = row['label']\n",
        "  sentiments.append(sentiment)\n",
        "\n",
        "  text = row['text'].lower()\n",
        "  texts.append(text)\n",
        "\n",
        "print(len(sentiments))\n",
        "print(len(texts))"
      ]
    },
    {
      "cell_type": "markdown",
      "metadata": {
        "id": "OttHuyrLd5HR"
      },
      "source": [
        "This step prepares the data by converting sentiments and texts into a suitable format for training.\n",
        "\n"
      ]
    },
    {
      "cell_type": "markdown",
      "metadata": {
        "id": "RYAKRFt_d87z"
      },
      "source": [
        "## Step 8: Split the Dataset\n",
        "\n",
        "For model training and evaluation, we'll split the dataset into training and validation sets:"
      ]
    },
    {
      "cell_type": "code",
      "execution_count": 13,
      "metadata": {
        "colab": {
          "base_uri": "https://localhost:8080/"
        },
        "id": "GOUNpqmlfMV5",
        "outputId": "39be67de-b8ae-4e90-8791-5ebc15e61891"
      },
      "outputs": [
        {
          "name": "stderr",
          "output_type": "stream",
          "text": [
            "100%|██████████| 1.01M/1.01M [00:00<00:00, 6.20MB/s]\n",
            "100%|██████████| 179M/179M [00:06<00:00, 28.9MB/s]\n",
            "100%|██████████| 470k/470k [00:00<00:00, 7.12MB/s]\n"
          ]
        }
      ],
      "source": [
        "label_encoder = LabelEncoder()\n",
        "encoded_sentiments = label_encoder.fit_transform(sentiments)\n",
        "\n",
        "# Split the data into training and testing sets\n",
        "X_train, X_test, y_train, y_test = train_test_split(texts, encoded_sentiments, test_size=0.2, random_state=42)\n",
        "\n",
        "# Initialize the LaserEncoder\n",
        "encoder = LaserEncoderPipeline(lang=\"eng_Latn\")"
      ]
    },
    {
      "cell_type": "markdown",
      "metadata": {
        "id": "x2vziPx6eSDs"
      },
      "source": [
        "A good practice is to reserve a portion of the data for validation to assess the model's performance."
      ]
    },
    {
      "cell_type": "markdown",
      "metadata": {
        "id": "KKLdd5MO5hoE"
      },
      "source": [
        "## Step 9: LASER Embeddings\n",
        "\n",
        "Now, let's leverage LASER embeddings to convert the text data into numerical representations:"
      ]
    },
    {
      "cell_type": "code",
      "execution_count": 28,
      "metadata": {
        "colab": {
          "base_uri": "https://localhost:8080/"
        },
        "id": "3yrXnFZWzTv3",
        "outputId": "ed7fce17-b1c2-4910-c6a7-591fbb362c6d"
      },
      "outputs": [
        {
          "name": "stdout",
          "output_type": "stream",
          "text": [
            "Encoding training sentences:\n"
          ]
        },
        {
          "name": "stderr",
          "output_type": "stream",
          "text": [
            "100%|██████████| 20000/20000 [30:32<00:00, 10.91it/s]\n"
          ]
        },
        {
          "name": "stdout",
          "output_type": "stream",
          "text": [
            "Encoding testing sentences:\n"
          ]
        },
        {
          "name": "stderr",
          "output_type": "stream",
          "text": [
            "100%|██████████| 5000/5000 [07:37<00:00, 10.92it/s]\n"
          ]
        }
      ],
      "source": [
        "# Initialize empty arrays to store embeddings\n",
        "X_train_embeddings = []\n",
        "X_test_embeddings = []\n",
        "\n",
        "# Encode sentences line-wise using tqdm for progress visualization\n",
        "print(\"Encoding training sentences:\")\n",
        "for sentence in tqdm(X_train):\n",
        "    embeddings = encoder.encode_sentences([sentence])[0]\n",
        "    X_train_embeddings.append(embeddings)\n",
        "\n",
        "print(\"Encoding testing sentences:\")\n",
        "for sentence in tqdm(X_test):\n",
        "    embeddings = encoder.encode_sentences([sentence])[0]\n",
        "    X_test_embeddings.append(embeddings)\n",
        "\n",
        "# Convert lists to numpy arrays\n",
        "X_train_embeddings = np.array(X_train_embeddings)\n",
        "X_test_embeddings = np.array(X_test_embeddings)"
      ]
    },
    {
      "cell_type": "markdown",
      "metadata": {
        "id": "7HeCXoUvefhT"
      },
      "source": [
        "## Step 10: Build and Train the RNN Model\n",
        "\n",
        "With the data ready, it's time to build and train our sentiment analysis model using a simple RNN architecture:"
      ]
    },
    {
      "cell_type": "code",
      "execution_count": 46,
      "metadata": {
        "colab": {
          "base_uri": "https://localhost:8080/"
        },
        "id": "7-7mYJsmWKVT",
        "outputId": "419ca407-4ef8-4f50-d864-83c2efcb810d"
      },
      "outputs": [
        {
          "name": "stdout",
          "output_type": "stream",
          "text": [
            "Model: \"sequential_9\"\n",
            "_________________________________________________________________\n",
            " Layer (type)                Output Shape              Param #   \n",
            "=================================================================\n",
            " dense_27 (Dense)            (None, 256)               262400    \n",
            "                                                                 \n",
            " reshape_9 (Reshape)         (None, 1, 256)            0         \n",
            "                                                                 \n",
            " simple_rnn_9 (SimpleRNN)    (None, 128)               49280     \n",
            "                                                                 \n",
            " dense_28 (Dense)            (None, 64)                8256      \n",
            "                                                                 \n",
            " dropout_9 (Dropout)         (None, 64)                0         \n",
            "                                                                 \n",
            " dense_29 (Dense)            (None, 2)                 130       \n",
            "                                                                 \n",
            "=================================================================\n",
            "Total params: 320066 (1.22 MB)\n",
            "Trainable params: 320066 (1.22 MB)\n",
            "Non-trainable params: 0 (0.00 Byte)\n",
            "_________________________________________________________________\n",
            "Epoch 1/30\n",
            "563/563 [==============================] - 6s 7ms/step - loss: 0.6192 - accuracy: 0.6680 - val_loss: 0.4955 - val_accuracy: 0.7740 - lr: 1.0000e-04\n",
            "Epoch 2/30\n",
            "563/563 [==============================] - 3s 6ms/step - loss: 0.4500 - accuracy: 0.7967 - val_loss: 0.4070 - val_accuracy: 0.8210 - lr: 9.0000e-05\n",
            "Epoch 3/30\n",
            "563/563 [==============================] - 3s 6ms/step - loss: 0.4033 - accuracy: 0.8224 - val_loss: 0.4032 - val_accuracy: 0.8160 - lr: 8.1000e-05\n",
            "Epoch 4/30\n",
            "563/563 [==============================] - 5s 9ms/step - loss: 0.3860 - accuracy: 0.8319 - val_loss: 0.3771 - val_accuracy: 0.8350 - lr: 7.2900e-05\n",
            "Epoch 5/30\n",
            "563/563 [==============================] - 3s 6ms/step - loss: 0.3712 - accuracy: 0.8391 - val_loss: 0.3742 - val_accuracy: 0.8360 - lr: 6.5610e-05\n",
            "Epoch 6/30\n",
            "563/563 [==============================] - 3s 6ms/step - loss: 0.3637 - accuracy: 0.8442 - val_loss: 0.3671 - val_accuracy: 0.8420 - lr: 5.9049e-05\n",
            "Epoch 7/30\n",
            "563/563 [==============================] - 3s 5ms/step - loss: 0.3620 - accuracy: 0.8451 - val_loss: 0.3667 - val_accuracy: 0.8405 - lr: 5.3144e-05\n",
            "Epoch 8/30\n",
            "563/563 [==============================] - 5s 8ms/step - loss: 0.3568 - accuracy: 0.8462 - val_loss: 0.3649 - val_accuracy: 0.8455 - lr: 4.7830e-05\n",
            "Epoch 9/30\n",
            "563/563 [==============================] - 4s 7ms/step - loss: 0.3549 - accuracy: 0.8499 - val_loss: 0.3640 - val_accuracy: 0.8440 - lr: 4.3047e-05\n",
            "Epoch 10/30\n",
            "563/563 [==============================] - 3s 5ms/step - loss: 0.3511 - accuracy: 0.8517 - val_loss: 0.3606 - val_accuracy: 0.8475 - lr: 3.8742e-05\n",
            "Epoch 11/30\n",
            "563/563 [==============================] - 3s 5ms/step - loss: 0.3469 - accuracy: 0.8538 - val_loss: 0.3649 - val_accuracy: 0.8430 - lr: 3.4868e-05\n",
            "Epoch 12/30\n",
            "563/563 [==============================] - 4s 6ms/step - loss: 0.3458 - accuracy: 0.8536 - val_loss: 0.3631 - val_accuracy: 0.8435 - lr: 3.1381e-05\n",
            "Epoch 13/30\n",
            "563/563 [==============================] - 5s 9ms/step - loss: 0.3458 - accuracy: 0.8545 - val_loss: 0.3648 - val_accuracy: 0.8420 - lr: 2.8243e-05\n",
            "Epoch 14/30\n",
            "563/563 [==============================] - 3s 5ms/step - loss: 0.3441 - accuracy: 0.8538 - val_loss: 0.3611 - val_accuracy: 0.8450 - lr: 2.5419e-05\n",
            "Epoch 15/30\n",
            "563/563 [==============================] - 3s 5ms/step - loss: 0.3425 - accuracy: 0.8557 - val_loss: 0.3581 - val_accuracy: 0.8490 - lr: 2.2877e-05\n",
            "Epoch 16/30\n",
            "563/563 [==============================] - 3s 5ms/step - loss: 0.3410 - accuracy: 0.8564 - val_loss: 0.3583 - val_accuracy: 0.8500 - lr: 2.0589e-05\n",
            "Epoch 17/30\n",
            "563/563 [==============================] - 4s 7ms/step - loss: 0.3403 - accuracy: 0.8572 - val_loss: 0.3607 - val_accuracy: 0.8425 - lr: 1.8530e-05\n",
            "Epoch 18/30\n",
            "563/563 [==============================] - 4s 7ms/step - loss: 0.3402 - accuracy: 0.8583 - val_loss: 0.3611 - val_accuracy: 0.8425 - lr: 1.6677e-05\n",
            "Epoch 19/30\n",
            "563/563 [==============================] - 4s 7ms/step - loss: 0.3381 - accuracy: 0.8592 - val_loss: 0.3603 - val_accuracy: 0.8450 - lr: 1.5009e-05\n",
            "Epoch 20/30\n",
            "563/563 [==============================] - 3s 5ms/step - loss: 0.3381 - accuracy: 0.8587 - val_loss: 0.3573 - val_accuracy: 0.8475 - lr: 1.3509e-05\n",
            "Epoch 21/30\n",
            "563/563 [==============================] - 4s 7ms/step - loss: 0.3374 - accuracy: 0.8579 - val_loss: 0.3575 - val_accuracy: 0.8465 - lr: 1.2158e-05\n",
            "Epoch 22/30\n",
            "563/563 [==============================] - 4s 8ms/step - loss: 0.3377 - accuracy: 0.8584 - val_loss: 0.3591 - val_accuracy: 0.8425 - lr: 1.0942e-05\n",
            "Epoch 23/30\n",
            "563/563 [==============================] - 3s 5ms/step - loss: 0.3364 - accuracy: 0.8597 - val_loss: 0.3570 - val_accuracy: 0.8490 - lr: 9.8477e-06\n",
            "Epoch 24/30\n",
            "563/563 [==============================] - 3s 5ms/step - loss: 0.3349 - accuracy: 0.8582 - val_loss: 0.3588 - val_accuracy: 0.8415 - lr: 8.8629e-06\n",
            "Epoch 25/30\n",
            "563/563 [==============================] - 3s 5ms/step - loss: 0.3334 - accuracy: 0.8611 - val_loss: 0.3570 - val_accuracy: 0.8470 - lr: 7.9766e-06\n",
            "Epoch 26/30\n",
            "563/563 [==============================] - 4s 8ms/step - loss: 0.3345 - accuracy: 0.8592 - val_loss: 0.3569 - val_accuracy: 0.8475 - lr: 7.1790e-06\n",
            "Epoch 27/30\n",
            "563/563 [==============================] - 4s 7ms/step - loss: 0.3341 - accuracy: 0.8615 - val_loss: 0.3568 - val_accuracy: 0.8465 - lr: 6.4611e-06\n",
            "Epoch 28/30\n",
            "563/563 [==============================] - 3s 5ms/step - loss: 0.3342 - accuracy: 0.8611 - val_loss: 0.3572 - val_accuracy: 0.8470 - lr: 5.8150e-06\n",
            "Epoch 29/30\n",
            "563/563 [==============================] - 3s 5ms/step - loss: 0.3343 - accuracy: 0.8610 - val_loss: 0.3568 - val_accuracy: 0.8495 - lr: 5.2335e-06\n",
            "Epoch 30/30\n",
            "563/563 [==============================] - 3s 6ms/step - loss: 0.3335 - accuracy: 0.8600 - val_loss: 0.3567 - val_accuracy: 0.8475 - lr: 4.7101e-06\n"
          ]
        },
        {
          "data": {
            "text/plain": [
              "<keras.src.callbacks.History at 0x79124c56a530>"
            ]
          },
          "execution_count": 46,
          "metadata": {},
          "output_type": "execute_result"
        }
      ],
      "source": [
        "# Sentiment Prediction with RNN Neural Network and Confusion Matrix\n",
        "\n",
        "from keras.models import Sequential\n",
        "from keras.layers import Dense, SimpleRNN, Reshape, Dropout\n",
        "from keras.optimizers import Adam\n",
        "from keras.callbacks import LearningRateScheduler\n",
        "from sklearn.metrics import confusion_matrix\n",
        "import seaborn as sns\n",
        "import matplotlib.pyplot as plt\n",
        "import numpy as np\n",
        "\n",
        "# Build a neural network model with RNN\n",
        "model = Sequential()\n",
        "model.add(Dense(256, input_shape=(1024,), activation='tanh'))\n",
        "model.add(Reshape((1, 256)))\n",
        "model.add(SimpleRNN(128, activation='relu'))\n",
        "model.add(Dense(64, activation='relu'))\n",
        "model.add(Dropout(0.5))  # Adding dropout for regularization\n",
        "model.add(Dense(2, activation='softmax'))\n",
        "\n",
        "# Use a learning rate scheduler\n",
        "def lr_schedule(epoch):\n",
        "    return 0.0001 * 0.9 ** epoch\n",
        "\n",
        "opt = Adam(learning_rate=0.0001)\n",
        "lr_scheduler = LearningRateScheduler(lr_schedule)\n",
        "#\n",
        "# Compile the model\n",
        "model.compile(optimizer=opt, loss='sparse_categorical_crossentropy', metrics=['accuracy'])\n",
        "\n",
        "\n",
        "# Print model summary to check the architecture\n",
        "model.summary()\n",
        "\n",
        "# Train the model with the learning rate scheduler\n",
        "model.fit(X_train_embeddings, y_train, epochs=30, batch_size=32, validation_split=0.1, callbacks=[lr_scheduler])"
      ]
    },
    {
      "cell_type": "markdown",
      "metadata": {
        "id": "32_oRAmBejuj"
      },
      "source": [
        "In this architecture, we employ a feedforward neural network with three dense layers, culminating in a softmax activation layer for sentiment classification."
      ]
    },
    {
      "cell_type": "markdown",
      "metadata": {
        "id": "WLFMDGLqfugC"
      },
      "source": [
        "## Step 11: Evaluate the Model\n",
        "Finally, let's evaluate the model's performance on the validation set and calculate the accuracy:"
      ]
    },
    {
      "cell_type": "code",
      "execution_count": 56,
      "metadata": {
        "colab": {
          "base_uri": "https://localhost:8080/"
        },
        "id": "Kx4_t2UjgALF",
        "outputId": "66521170-218c-4178-b955-eb238cd0114e"
      },
      "outputs": [
        {
          "name": "stdout",
          "output_type": "stream",
          "text": [
            "157/157 [==============================] - 1s 6ms/step - loss: 0.3774 - accuracy: 0.8330\n",
            "Accuracy: 83.30%\n",
            "157/157 [==============================] - 1s 4ms/step\n",
            "Label 0: Precision = 0.84, Recall = 0.83\n",
            "Label 1: Precision = 0.83, Recall = 0.84\n",
            "\n",
            "Classification Report:\n",
            "              precision    recall  f1-score   support\n",
            "\n",
            "           0       0.84      0.83      0.83      2523\n",
            "           1       0.83      0.84      0.83      2477\n",
            "\n",
            "    accuracy                           0.83      5000\n",
            "   macro avg       0.83      0.83      0.83      5000\n",
            "weighted avg       0.83      0.83      0.83      5000\n",
            "\n"
          ]
        }
      ],
      "source": [
        "from sklearn.metrics import accuracy_score, precision_score, recall_score, classification_report\n",
        "\n",
        "# Evaluate the model on the test set\n",
        "accuracy = model.evaluate(X_test_embeddings, y_test)[1]\n",
        "print(f\"Accuracy: {accuracy * 100:.2f}%\")\n",
        "\n",
        "# Predictions on the test set\n",
        "y_pred_probabilities = model.predict(X_test_embeddings)\n",
        "y_pred = np.argmax(y_pred_probabilities, axis=1)\n",
        "\n",
        "# Calculate precision and recall per label\n",
        "precision_per_label = precision_score(y_test, y_pred, average=None)\n",
        "recall_per_label = recall_score(y_test, y_pred, average=None)\n",
        "\n",
        "# Display precision and recall per label\n",
        "for label, precision, recall in zip(range(len(precision_per_label)), precision_per_label, recall_per_label):\n",
        "    print(f\"Label {label}: Precision = {precision:.2f}, Recall = {recall:.2f}\")\n",
        "\n",
        "# Classification report\n",
        "print(\"\\nClassification Report:\")\n",
        "print(classification_report(y_test, y_pred))"
      ]
    },
    {
      "cell_type": "markdown",
      "metadata": {
        "id": "xTwXSCUVfvVx"
      },
      "source": [
        "This step provides insights into how well the model generalizes to new, unseen data."
      ]
    },
    {
      "cell_type": "markdown",
      "metadata": {
        "id": "E6mdIbjPgsne"
      },
      "source": [
        "## Step 12:Evaluate with Confusion Matrix\n",
        "\n",
        "This matrix provides detailed insights into the model's predictions, showcasing true positives, true negatives, false positives, and false negatives."
      ]
    },
    {
      "cell_type": "code",
      "execution_count": 57,
      "metadata": {
        "colab": {
          "base_uri": "https://localhost:8080/",
          "height": 564
        },
        "id": "kPY816C7gEOw",
        "outputId": "986d8dcb-9e35-42b1-bd82-7cb753a538e4"
      },
      "outputs": [
        {
          "data": {
            "image/png": "[encoded data removed]",
            "text/plain": [
              "<Figure size 800x600 with 2 Axes>"
            ]
          },
          "metadata": {},
          "output_type": "display_data"
        }
      ],
      "source": [
        "cm = confusion_matrix(y_test, y_pred)\n",
        "\n",
        "# Normalize the confusion matrix\n",
        "cm_normalized = cm.astype('float') / cm.sum(axis=1)[:, np.newaxis]\n",
        "\n",
        "# Plot the normalized confusion matrix\n",
        "plt.figure(figsize=(8, 6))\n",
        "sns.heatmap(cm_normalized, annot=True, cmap='Blues', xticklabels=['Neutral', 'Positive', 'Negative'], yticklabels=['Neutral', 'Positive', 'Negative'])\n",
        "plt.title('Normalized Confusion Matrix')\n",
        "plt.xlabel('Predicted Label')\n",
        "plt.ylabel('True Label')\n",
        "plt.show()"
      ]
    },
    {
      "cell_type": "markdown",
      "metadata": {
        "id": "1B1ZP8EizqxU"
      },
      "source": [
        "## Step 13:Sentiment Prediction for User Input in Different Languages"
      ]
    },
    {
      "cell_type": "code",
      "execution_count": 58,
      "metadata": {
        "colab": {
          "base_uri": "https://localhost:8080/"
        },
        "id": "H2kJx0vKzp81",
        "outputId": "70675856-b04e-41ab-d0e3-f7b8e1822f00"
      },
      "outputs": [
        {
          "name": "stdout",
          "output_type": "stream",
          "text": [
            "Enter the language: english\n",
            "Enter a text: you are sexy\n",
            "1/1 [==============================] - 0s 19ms/step\n",
            "Predicted Sentiment: positive\n"
          ]
        }
      ],
      "source": [
        "language = input(\"Enter the language: \")\n",
        "encoder = LaserEncoderPipeline(lang=language)\n",
        "\n",
        "\n",
        "# Now, you can use the trained model to predict the sentiment of user input\n",
        "user_text = input(\"Enter a text: \")\n",
        "user_text_embedding = encoder.encode_sentences([user_text])[0]\n",
        "user_text_embedding = np.reshape(user_text_embedding, (1, -1))\n",
        "\n",
        "predicted_sentiment = np.argmax(model.predict(user_text_embedding))\n",
        "predicted_sentiment_no = label_encoder.inverse_transform([predicted_sentiment])[0]\n",
        "if predicted_sentiment_no == 0:\n",
        "  predicted_sentiment_label = 'negative'\n",
        "elif predicted_sentiment_no == 1:\n",
        "  predicted_sentiment_label = 'positive'\n",
        "\n",
        "print(f\"Predicted Sentiment: {predicted_sentiment_label}\")"
      ]
    },
    {
      "cell_type": "markdown",
      "metadata": {
        "id": "SOxFqEdwcejj"
      },
      "source": [
        "## Step 14:Sentiment Prediction for Multilingual Texts\n",
        "\n",
        "This step involves iterating through a collection of sentiments expressed in various languages, including English, Hindi, Portuguese, Romanian, Slovenian, Chinese, French, Dutch, Russian, Italian, and Bosnian.\n",
        "\n",
        "This process demonstrates the model's ability to analyze sentiments across diverse linguistic contexts and still yeild same output."
      ]
    },
    {
      "cell_type": "code",
      "execution_count": 60,
      "metadata": {
        "colab": {
          "base_uri": "https://localhost:8080/"
        },
        "id": "vjFvWEC0UOj0",
        "outputId": "5bcbfff2-daf1-4be8-bd5a-7b64357e2c7e"
      },
      "outputs": [
        {
          "name": "stdout",
          "output_type": "stream",
          "text": [
            "English: Said something harsh and didn't even realize it's harsh until I said it.. Sorry\n",
            "1/1 [==============================] - 0s 23ms/step\n",
            "Predicted Sentiment: negative\n",
            "Hindi: कुछ कड़ाई बातें कहीं और मैंने यह तक महसूस नहीं किया कि यह कड़ाई है जब तक मैंने यह कहा.. माफ़ करें\n",
            "1/1 [==============================] - 0s 23ms/step\n",
            "Predicted Sentiment: negative\n",
            "Portuguese: Disse algo duro e nem percebi que era duro até dizer.. Desculpe\n",
            "1/1 [==============================] - 0s 28ms/step\n",
            "Predicted Sentiment: negative\n",
            "Romanian: Am spus ceva dur și nici măcar nu mi-am dat seama că e dur până când am spus asta.. Scuze\n",
            "1/1 [==============================] - 0s 25ms/step\n",
            "Predicted Sentiment: negative\n",
            "Slovenian: Rekel sem nekaj ostrega in sploh nisem ugotovil, da je ostro, dokler nisem rekel.. Oprosti\n",
            "1/1 [==============================] - 0s 29ms/step\n",
            "Predicted Sentiment: negative\n",
            "Chinese: 说了一些刻薄的话，甚至直到我说出来我才意识到它很刻薄.. 抱歉\n",
            "1/1 [==============================] - 0s 17ms/step\n",
            "Predicted Sentiment: negative\n",
            "French: Ai dit quelque chose de dur et je n'ai même pas réalisé que c'était dur jusqu'à ce que je le dise.. Désolé\n",
            "1/1 [==============================] - 0s 20ms/step\n",
            "Predicted Sentiment: negative\n",
            "Dutch: Iets hards gezegd en realiseerde me niet eens dat het hard was tot ik het zei.. Sorry\n",
            "1/1 [==============================] - 0s 17ms/step\n",
            "Predicted Sentiment: negative\n",
            "Russian: Сказал что-то резкое и даже не осознал, насколько это резкое, пока не сказал.. Извините\n",
            "1/1 [==============================] - 0s 17ms/step\n",
            "Predicted Sentiment: negative\n",
            "Italian: Ho detto qualcosa di duro e non me ne sono nemmeno reso conto finché non l'ho detto.. Scusa\n",
            "1/1 [==============================] - 0s 22ms/step\n",
            "Predicted Sentiment: negative\n",
            "Bosnian: Rekao nešto oštro i čak nisam shvatio da je oštro dok nisam rekao.. Žao mi je\n",
            "1/1 [==============================] - 0s 26ms/step\n",
            "Predicted Sentiment: negative\n"
          ]
        }
      ],
      "source": [
        "sentiments = {\n",
        "    \"english\": \"Said something harsh and didn't even realize it's harsh until I said it.. Sorry\",\n",
        "    'hindi': \"कुछ कड़ाई बातें कहीं और मैंने यह तक महसूस नहीं किया कि यह कड़ाई है जब तक मैंने यह कहा.. माफ़ करें\",\n",
        "    'portuguese': \"Disse algo duro e nem percebi que era duro até dizer.. Desculpe\",\n",
        "    'romanian': \"Am spus ceva dur și nici măcar nu mi-am dat seama că e dur până când am spus asta.. Scuze\",\n",
        "    'slovenian': \"Rekel sem nekaj ostrega in sploh nisem ugotovil, da je ostro, dokler nisem rekel.. Oprosti\",\n",
        "    'chinese': \"说了一些刻薄的话，甚至直到我说出来我才意识到它很刻薄.. 抱歉\",\n",
        "    'french': \"Ai dit quelque chose de dur et je n'ai même pas réalisé que c'était dur jusqu'à ce que je le dise.. Désolé\",\n",
        "    'dutch': \"Iets hards gezegd en realiseerde me niet eens dat het hard was tot ik het zei.. Sorry\",\n",
        "    'russian': \"Сказал что-то резкое и даже не осознал, насколько это резкое, пока не сказал.. Извините\",\n",
        "    'italian': \"Ho detto qualcosa di duro e non me ne sono nemmeno reso conto finché non l'ho detto.. Scusa\",\n",
        "    'bosnian': \"Rekao nešto oštro i čak nisam shvatio da je oštro dok nisam rekao.. Žao mi je\"\n",
        "}\n",
        "\n",
        "# Iterate through the dictionary and extract values\n",
        "for language, sentiment in sentiments.items():\n",
        "  print(f\"{language.capitalize()}: {sentiment}\")\n",
        "  encoder = LaserEncoderPipeline(lang=language)\n",
        "  # Now, you can use the trained model to predict the sentiment of user input\n",
        "  user_text = sentiment\n",
        "  user_text_embedding = encoder.encode_sentences([user_text])[0]\n",
        "  user_text_embedding = np.reshape(user_text_embedding, (1, -1))\n",
        "\n",
        "  predicted_sentiment = np.argmax(model.predict(user_text_embedding))\n",
        "  predicted_sentiment_no = label_encoder.inverse_transform([predicted_sentiment])[0]\n",
        "  if predicted_sentiment_no == 0:\n",
        "    predicted_sentiment_label = 'negative'\n",
        "  elif predicted_sentiment_no == 1:\n",
        "    predicted_sentiment_label = 'positive'\n",
        "\n",
        "  print(f\"Predicted Sentiment: {predicted_sentiment_label}\")"
      ]
    },
    {
      "cell_type": "markdown",
      "metadata": {
        "id": "D76SEjLm0ZOR"
      },
      "source": [
        "Congratulations! You have completed the sentiment analysis tutorial using LASER embeddings and an RNN. Feel free to experiment with different architectures, hyperparameters, or datasets to further improve the model."
      ]
    }
  ],
  "metadata": {
    "accelerator": "GPU",
    "colab": {
      "provenance": []
    },
    "kernelspec": {
      "display_name": "Python 3",
      "name": "python3"
    },
    "language_info": {
      "name": "python"
    }
  },
  "nbformat": 4,
  "nbformat_minor": 0
}
